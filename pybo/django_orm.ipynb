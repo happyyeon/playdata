{
 "cells": [
  {
   "cell_type": "code",
   "execution_count": 21,
   "id": "598e7e54",
   "metadata": {},
   "outputs": [],
   "source": [
    "from pybo.models import Question, Answer\n",
    "\n",
    "import os\n",
    "\n",
    "os.environ[\"DJANGO_ALLOW_ASYNC_UNSAFE\"] = \"true\"\n",
    "\n",
    "from django.utils import timezone\n",
    "q = Question(subject=\"내일은 뭘 먹을까?\", content=\"맛집 리스트 정리\",\n",
    "        create_date=timezone.now())"
   ]
  },
  {
   "cell_type": "code",
   "execution_count": 22,
   "id": "9998cda9",
   "metadata": {},
   "outputs": [],
   "source": [
    "q.save()"
   ]
  },
  {
   "cell_type": "code",
   "execution_count": 23,
   "id": "d1255857",
   "metadata": {},
   "outputs": [],
   "source": [
    "for x in range(10):\n",
    "    q = Question(subject=\"내일은 뭘 먹을까?\", content=\"맛집 리스트 정리\",\n",
    "        create_date=timezone.now())\n",
    "    q.save()"
   ]
  },
  {
   "cell_type": "code",
   "execution_count": 24,
   "id": "bd72756a",
   "metadata": {},
   "outputs": [
    {
     "data": {
      "text/plain": [
       "(1, {'pybo.Question': 1})"
      ]
     },
     "execution_count": 24,
     "metadata": {},
     "output_type": "execute_result"
    }
   ],
   "source": [
    "q.delete()"
   ]
  },
  {
   "cell_type": "code",
   "execution_count": 25,
   "id": "9b1ab405",
   "metadata": {},
   "outputs": [
    {
     "data": {
      "text/plain": [
       "<QuerySet [<Question: Question object (1)>, <Question: Question object (2)>, <Question: Question object (3)>, <Question: Question object (4)>, <Question: Question object (6)>, <Question: Question object (7)>, <Question: Question object (8)>, <Question: Question object (9)>, <Question: Question object (10)>, <Question: Question object (12)>, <Question: Question object (13)>, <Question: Question object (14)>, <Question: Question object (15)>, <Question: Question object (16)>, <Question: Question object (17)>, <Question: Question object (18)>, <Question: Question object (19)>, <Question: Question object (20)>, <Question: Question object (21)>]>"
      ]
     },
     "execution_count": 25,
     "metadata": {},
     "output_type": "execute_result"
    }
   ],
   "source": [
    "Question.objects.all()"
   ]
  },
  {
   "cell_type": "code",
   "execution_count": 26,
   "id": "8a7e4974",
   "metadata": {},
   "outputs": [],
   "source": [
    "q = Question.objects.filter(id=5)"
   ]
  },
  {
   "cell_type": "code",
   "execution_count": 27,
   "id": "c1ed2ff7",
   "metadata": {},
   "outputs": [
    {
     "data": {
      "text/plain": [
       "(0, {})"
      ]
     },
     "execution_count": 27,
     "metadata": {},
     "output_type": "execute_result"
    }
   ],
   "source": [
    "q.delete()"
   ]
  },
  {
   "cell_type": "code",
   "execution_count": 28,
   "id": "e82b338c",
   "metadata": {},
   "outputs": [],
   "source": [
    "q = Question.objects.get(id=1)"
   ]
  },
  {
   "cell_type": "code",
   "execution_count": 29,
   "id": "391feb3a",
   "metadata": {},
   "outputs": [],
   "source": [
    "a = Answer(question=q, content = \"마라탕\", create_date = timezone.now())"
   ]
  },
  {
   "cell_type": "code",
   "execution_count": 30,
   "id": "2738c931",
   "metadata": {},
   "outputs": [],
   "source": [
    "a.save()"
   ]
  },
  {
   "cell_type": "code",
   "execution_count": 31,
   "id": "79eef204",
   "metadata": {},
   "outputs": [],
   "source": [
    "q = Question(subject=\"내일은 뭘 먹을까?\", content=\"맛집 리스트 정리\",\n",
    "    create_date=timezone.now())"
   ]
  }
 ],
 "metadata": {
  "kernelspec": {
   "display_name": "Django Shell-Plus",
   "language": "python",
   "name": "django_extensions"
  },
  "language_info": {
   "codemirror_mode": {
    "name": "ipython",
    "version": 3
   },
   "file_extension": ".py",
   "mimetype": "text/x-python",
   "name": "python",
   "nbconvert_exporter": "python",
   "pygments_lexer": "ipython3",
   "version": "3.10.9"
  }
 },
 "nbformat": 4,
 "nbformat_minor": 5
}
