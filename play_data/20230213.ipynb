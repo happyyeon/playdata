{
 "cells": [
  {
   "cell_type": "code",
   "execution_count": 1,
   "metadata": {},
   "outputs": [
    {
     "name": "stdout",
     "output_type": "stream",
     "text": [
      "1\n"
     ]
    }
   ],
   "source": [
    "print(1)"
   ]
  },
  {
   "cell_type": "code",
   "execution_count": 2,
   "metadata": {},
   "outputs": [
    {
     "data": {
      "text/plain": [
       "0.30000000000000004"
      ]
     },
     "execution_count": 2,
     "metadata": {},
     "output_type": "execute_result"
    }
   ],
   "source": [
    "0.1+0.2"
   ]
  },
  {
   "cell_type": "code",
   "execution_count": 3,
   "metadata": {},
   "outputs": [],
   "source": [
    "import requests \n",
    "import pandas as pd\n",
    "url = \"https://finance.naver.com/item/sise_day.naver?code=005930&page={}\"\n",
    "head = {\"User-Agent\": \"Mozilla/5.0 (Windows NT 10.0; Win64; x64) AppleWebKit/537.36 (KHTML, like Gecko) Chrome/110.0.0.0 Safari/537.36\"}\n",
    "df=pd.concat([pd.read_html(requests.get(url.format(x), headers=head).text)[0].dropna() for x in range(1,5)])"
   ]
  },
  {
   "cell_type": "code",
   "execution_count": 4,
   "metadata": {},
   "outputs": [
    {
     "name": "stdout",
     "output_type": "stream",
     "text": [
      "            날짜       종가     전일비       시가       고가       저가         거래량\n",
      "1   2023.02.13  62900.0   100.0  62900.0  63000.0  62300.0   9702719.0\n",
      "2   2023.02.10  62800.0   200.0  62600.0  63000.0  62400.0   9382576.0\n",
      "3   2023.02.09  63000.0   100.0  63000.0  63300.0  62300.0  12164865.0\n",
      "4   2023.02.08  63100.0  1200.0  62800.0  63300.0  62400.0  12243125.0\n",
      "5   2023.02.07  61900.0   300.0  61900.0  62500.0  61600.0  14491039.0\n",
      "9   2023.02.06  61600.0  2200.0  62800.0  63000.0  61600.0  15529356.0\n",
      "10  2023.02.03  63800.0   300.0  63900.0  64000.0  63000.0  15194598.0\n",
      "11  2023.02.02  63500.0  1700.0  63200.0  63900.0  62600.0  23285983.0\n",
      "12  2023.02.01  61800.0   800.0  62600.0  62700.0  61000.0  18570133.0\n",
      "13  2023.01.31  61000.0  2300.0  63500.0  63700.0  61000.0  29746731.0\n",
      "1   2023.01.30  63300.0  1300.0  64900.0  64900.0  63100.0  20995234.0\n",
      "2   2023.01.27  64600.0   700.0  64400.0  65000.0  63900.0  18760182.0\n",
      "3   2023.01.26  63900.0   500.0  63800.0  63900.0  63300.0  13278277.0\n",
      "4   2023.01.25  63400.0  1600.0  63500.0  63700.0  63000.0  16822710.0\n",
      "5   2023.01.20  61800.0   300.0  62100.0  62300.0  61100.0   9646327.0\n",
      "9   2023.01.19  61500.0  1100.0  60500.0  61500.0  60400.0  12808490.0\n",
      "10  2023.01.18  60400.0   600.0  60700.0  61000.0  59900.0  11584041.0\n",
      "11  2023.01.17  61000.0   100.0  61200.0  61500.0  60600.0   9831456.0\n",
      "12  2023.01.16  61100.0   300.0  61300.0  61600.0  60800.0  10039972.0\n",
      "13  2023.01.13  60800.0   300.0  60500.0  61200.0  60400.0  12510328.0\n",
      "1   2023.01.12  60500.0     0.0  61100.0  61200.0  59900.0  16102561.0\n",
      "2   2023.01.11  60500.0   100.0  61000.0  61200.0  60300.0  12310751.0\n",
      "3   2023.01.10  60400.0   300.0  60200.0  61100.0  59900.0  14859797.0\n",
      "4   2023.01.09  60700.0  1700.0  59700.0  60700.0  59600.0  18640107.0\n",
      "5   2023.01.06  59000.0   800.0  58300.0  59400.0  57900.0  17334989.0\n",
      "9   2023.01.05  58200.0   400.0  58200.0  58800.0  57600.0  15682826.0\n",
      "10  2023.01.04  57800.0  2400.0  55700.0  58000.0  55600.0  20188071.0\n",
      "11  2023.01.03  55400.0   100.0  55400.0  56000.0  54500.0  13547030.0\n",
      "12  2023.01.02  55500.0   200.0  55500.0  56100.0  55200.0  10031448.0\n",
      "13  2022.12.29  55300.0  1300.0  56000.0  56200.0  55300.0  11295935.0\n",
      "1   2022.12.28  56600.0  1500.0  57600.0  57600.0  56400.0  14665410.0\n",
      "2   2022.12.27  58100.0   200.0  58000.0  58400.0  57900.0  10667027.0\n",
      "3   2022.12.26  57900.0   200.0  58000.0  58100.0  57700.0   6756411.0\n",
      "4   2022.12.23  58100.0  1000.0  58200.0  58400.0  57700.0   9829407.0\n",
      "5   2022.12.22  59100.0  1100.0  58100.0  59100.0  58100.0  10720630.0\n",
      "9   2022.12.21  58000.0   600.0  58700.0  59100.0  58000.0  10356971.0\n",
      "10  2022.12.20  58600.0   900.0  59000.0  59100.0  58500.0   9284761.0\n",
      "11  2022.12.19  59500.0     0.0  59500.0  59900.0  59100.0   7696187.0\n",
      "12  2022.12.16  59500.0   200.0  58300.0  59500.0  58300.0  13033596.0\n",
      "13  2022.12.15  59300.0  1200.0  59800.0  60200.0  59300.0   8716039.0\n"
     ]
    }
   ],
   "source": [
    "print(df)"
   ]
  },
  {
   "cell_type": "code",
   "execution_count": 5,
   "metadata": {},
   "outputs": [
    {
     "name": "stdout",
     "output_type": "stream",
     "text": [
      "김미영팀장입니다. 엔코아님께서는 최저이율로 최고 3000만원 까지 30분 이내 통장입금 가능합니다.\n",
      "김미영팀장입니다. 공형조님께서는 최저이율로 최고 3000만원 까지 30분 이내 통장입금 가능합니다.\n",
      "김미영팀장입니다. 구자찬님께서는 최저이율로 최고 3000만원 까지 30분 이내 통장입금 가능합니다.\n",
      "김미영팀장입니다. 김도현님께서는 최저이율로 최고 3000만원 까지 30분 이내 통장입금 가능합니다.\n",
      "김미영팀장입니다. 김동현님께서는 최저이율로 최고 3000만원 까지 30분 이내 통장입금 가능합니다.\n",
      "김미영팀장입니다. 김지현님께서는 최저이율로 최고 3000만원 까지 30분 이내 통장입금 가능합니다.\n",
      "김미영팀장입니다. 김진만님께서는 최저이율로 최고 3000만원 까지 30분 이내 통장입금 가능합니다.\n",
      "김미영팀장입니다. 김창현님께서는 최저이율로 최고 3000만원 까지 30분 이내 통장입금 가능합니다.\n",
      "김미영팀장입니다. 김형선님께서는 최저이율로 최고 3000만원 까지 30분 이내 통장입금 가능합니다.\n",
      "김미영팀장입니다. 문광식님께서는 최저이율로 최고 3000만원 까지 30분 이내 통장입금 가능합니다.\n",
      "김미영팀장입니다. 박규리님께서는 최저이율로 최고 3000만원 까지 30분 이내 통장입금 가능합니다.\n",
      "김미영팀장입니다. 박상혁님께서는 최저이율로 최고 3000만원 까지 30분 이내 통장입금 가능합니다.\n",
      "김미영팀장입니다. 박정인님께서는 최저이율로 최고 3000만원 까지 30분 이내 통장입금 가능합니다.\n",
      "김미영팀장입니다. 박지빈님께서는 최저이율로 최고 3000만원 까지 30분 이내 통장입금 가능합니다.\n",
      "김미영팀장입니다. 서보혁님께서는 최저이율로 최고 3000만원 까지 30분 이내 통장입금 가능합니다.\n",
      "김미영팀장입니다. 양용준님께서는 최저이율로 최고 3000만원 까지 30분 이내 통장입금 가능합니다.\n",
      "김미영팀장입니다. 오준님께서는 최저이율로 최고 3000만원 까지 30분 이내 통장입금 가능합니다.\n",
      "김미영팀장입니다. 위정우님께서는 최저이율로 최고 3000만원 까지 30분 이내 통장입금 가능합니다.\n",
      "김미영팀장입니다. 이다인님께서는 최저이율로 최고 3000만원 까지 30분 이내 통장입금 가능합니다.\n",
      "김미영팀장입니다. 이성민님께서는 최저이율로 최고 3000만원 까지 30분 이내 통장입금 가능합니다.\n",
      "김미영팀장입니다. 이정연님께서는 최저이율로 최고 3000만원 까지 30분 이내 통장입금 가능합니다.\n",
      "김미영팀장입니다. 이혜규님께서는 최저이율로 최고 3000만원 까지 30분 이내 통장입금 가능합니다.\n",
      "김미영팀장입니다. 임재규님께서는 최저이율로 최고 3000만원 까지 30분 이내 통장입금 가능합니다.\n",
      "김미영팀장입니다. 임종범님께서는 최저이율로 최고 3000만원 까지 30분 이내 통장입금 가능합니다.\n",
      "김미영팀장입니다. 임지훈님께서는 최저이율로 최고 3000만원 까지 30분 이내 통장입금 가능합니다.\n",
      "김미영팀장입니다. 임채윤님께서는 최저이율로 최고 3000만원 까지 30분 이내 통장입금 가능합니다.\n",
      "김미영팀장입니다. 장진수님께서는 최저이율로 최고 3000만원 까지 30분 이내 통장입금 가능합니다.\n",
      "김미영팀장입니다. 장진혁님께서는 최저이율로 최고 3000만원 까지 30분 이내 통장입금 가능합니다.\n",
      "김미영팀장입니다. 장희수님께서는 최저이율로 최고 3000만원 까지 30분 이내 통장입금 가능합니다.\n",
      "김미영팀장입니다. 정기원님께서는 최저이율로 최고 3000만원 까지 30분 이내 통장입금 가능합니다.\n",
      "김미영팀장입니다. 조형식님께서는 최저이율로 최고 3000만원 까지 30분 이내 통장입금 가능합니다.\n",
      "김미영팀장입니다. 한정인님께서는 최저이율로 최고 3000만원 까지 30분 이내 통장입금 가능합니다.\n"
     ]
    }
   ],
   "source": [
    "text = \"김미영팀장입니다. {}님께서는 최저이율로 최고 3000만원 까지 30분 이내 통장입금 가능합니다.\"\n",
    "print(text.format(\"엔코아\"))\n",
    "class_a = [\"공형조\",\"구자찬\",\"김도현\",\"김동현\",\"김지현\",\"김진만\",\"김창현\",\"김형선\",\"문광식\",\"박규리\",\"박상혁\",\"박정인\",\"박지빈\",\"서보혁\",\"양용준\",\"오준\",\"위정우\",\"이다인\",\"이성민\",\"이정연\",\"이혜규\",\"임재규\",\"임종범\",\"임지훈\",\"임채윤\",\"장진수\",\"장진혁\",\"장희수\",\"정기원\",\"조형식\",\"한정인\",]\n",
    "\n",
    "\n",
    "\n",
    "\n",
    "for name in class_a:\n",
    "    print(text.format(name))"
   ]
  },
  {
   "cell_type": "code",
   "execution_count": 6,
   "metadata": {},
   "outputs": [],
   "source": [
    "import requests\n",
    "url = \"https://www.starbucks.co.kr/store/getStore.do?r=GKYHQKU7D3\"\n",
    "payload = {\"in_biz_cds\" : \"0\",\n",
    "\"in_scodes\" : \"0\",\n",
    "\"ins_lat\" : \"37.566535\",\n",
    "\"ins_lng\" : \"126.9779692\",\n",
    "\"search_text\" : \"\",\n",
    "\"p_sido_cd\" : \"01\",\n",
    "\"p_gugun_cd\" : \"\",\n",
    "\"in_distance\" : \"0\",\n",
    "\"in_biz_cd\" : \"\",\n",
    "\"isError\" : \"true\",\n",
    "\"searchType\" : \"C\",\n",
    "\"set_date\" : \"\",\n",
    "\"all_store\" : \"0\",\n",
    "\"T03\" : \"0\",\n",
    "\"T01\" : \"0\",\n",
    "\"T27\" : \"0\",\n",
    "\"T12\" : \"0\",\n",
    "\"T09\" : \"0\",\n",
    "\"T30\" : \"0\",\n",
    "\"T05\" : \"0\",\n",
    "\"T22\" : \"0\",\n",
    "\"T21\" : \"0\",\n",
    "\"T10\" : \"0\",\n",
    "\"T36\" : \"0\",\n",
    "\"T43\" : \"0\",\n",
    "\"T48\" : \"0\",\n",
    "\"P10\" : \"0\",\n",
    "\"P50\" : \"0\",\n",
    "\"P20\" : \"0\",\n",
    "\"P60\" : \"0\",\n",
    "\"P30\" : \"0\",\n",
    "\"P70\" : \"0\",\n",
    "\"P40\" : \"0\",\n",
    "\"P80\" : \"0\",\n",
    "\"whcroad_yn\" : \"0\",\n",
    "\"P90\" : \"0\",\n",
    "\"new_bool\" : \"0\",\n",
    "\"iend\" : \"1000\",\n",
    "\"rndCod\" : \"IZVHHSIFWC\",}\n",
    "r =  requests.post(url, data=payload)\n",
    "star = r.json()['list']\n"
   ]
  },
  {
   "cell_type": "code",
   "execution_count": 7,
   "metadata": {},
   "outputs": [
    {
     "data": {
      "text/plain": [
       "{'seq': 0,\n",
       " 'sido_cd': None,\n",
       " 'sido_nm': None,\n",
       " 'gugun_cd': None,\n",
       " 'gugun_nm': None,\n",
       " 'code_order': None,\n",
       " 'view_yn': None,\n",
       " 'store_num': None,\n",
       " 'sido': None,\n",
       " 'gugun': None,\n",
       " 'address': None,\n",
       " 'new_img_nm': None,\n",
       " 'p_pro_seq': 0,\n",
       " 'p_view_yn': None,\n",
       " 'p_sido_cd': '',\n",
       " 'p_gugun_cd': '',\n",
       " 'p_store_nm': None,\n",
       " 'p_theme_cd': None,\n",
       " 'p_wireless_yn': None,\n",
       " 'p_smoking_yn': None,\n",
       " 'p_book_yn': None,\n",
       " 'p_music_yn': None,\n",
       " 'p_terrace_yn': None,\n",
       " 'p_table_yn': None,\n",
       " 'p_takeout_yn': None,\n",
       " 'p_parking_yn': None,\n",
       " 'p_dollar_assent': None,\n",
       " 'p_card_recharge': None,\n",
       " 'p_subway_yn': None,\n",
       " 'stb_store_file_renew': None,\n",
       " 'stb_store_theme_renew': None,\n",
       " 'stb_store_time_renew': None,\n",
       " 'stb_store_lsm': None,\n",
       " 's_code': '1509',\n",
       " 's_name': '역삼아레나빌딩',\n",
       " 'tel': '1522-3232',\n",
       " 'fax': '02-568-3763',\n",
       " 'sido_code': '01',\n",
       " 'sido_name': '서울',\n",
       " 'gugun_code': '0101',\n",
       " 'gugun_name': '강남구',\n",
       " 'addr': '서울특별시 강남구 역삼동 721-13 아레나빌딩',\n",
       " 'park_info': None,\n",
       " 'new_state': None,\n",
       " 'theme_state': 'T05@T08@T16@T17@T20@T21@T30@@T52@P80@P90',\n",
       " 'new_bool': 0,\n",
       " 'search_text': '',\n",
       " 'ins_lat': '',\n",
       " 'ins_lng': '',\n",
       " 'in_distance': 0,\n",
       " 'out_distance': '9.27',\n",
       " 'all_search_cnt': -1,\n",
       " 'addr_search_cnt': -1,\n",
       " 'store_search_cnt': -1,\n",
       " 'rowCount': 30,\n",
       " 'store_nm': '',\n",
       " 'store_cd': 0,\n",
       " 's_biz_code': '3762',\n",
       " 'new_icon': 'N',\n",
       " 'set_user': '',\n",
       " 'favorites': 0,\n",
       " 'map_desc': None,\n",
       " 'notice': None,\n",
       " 'defaultimage': '/upload/store/2020/09/[3762]_20200917031519_6juwr.JPG',\n",
       " 'etcimage': None,\n",
       " 'in_biz_cd': None,\n",
       " 'in_store_cd': None,\n",
       " 'in_favorites': None,\n",
       " 'in_user_id': None,\n",
       " 'in_biz_cds': 0,\n",
       " 'in_biz_arr': None,\n",
       " 'in_biz_arrdata': None,\n",
       " 'in_scodes': 0,\n",
       " 'in_scode_arr': None,\n",
       " 'in_scode_arrdata': None,\n",
       " 'disp': None,\n",
       " 'set_date': None,\n",
       " 'hlytag': None,\n",
       " 'hlytag_msg': None,\n",
       " 'vSal': '',\n",
       " 'istart': 1,\n",
       " 'iend': 60,\n",
       " 'open_dt': '20190613',\n",
       " 'gold_card': 0,\n",
       " 'ip_lat': '',\n",
       " 'ip_long': '',\n",
       " 'espresso': '',\n",
       " 'new_store': '',\n",
       " 'premiere_food': '',\n",
       " 'doro_address': '서울특별시 강남구 언주로 425 (역삼동)',\n",
       " 'cold_blew': '',\n",
       " 'my_siren_order_store_yn': 'N',\n",
       " 'whcroad_yn': 'WHCROAD',\n",
       " 'skuNo': '',\n",
       " 'skuName': '',\n",
       " 'skuImgUrl': '',\n",
       " 'stock_count': 0,\n",
       " 'store_area_name': None,\n",
       " 'store_area_code': 'A01',\n",
       " 'is_open': None,\n",
       " 'gift_stock_yn': None,\n",
       " 'lat': '37.501087',\n",
       " 'lot': '127.043069',\n",
       " 't20': 0,\n",
       " 't04': 0,\n",
       " 't03': 0,\n",
       " 't01': 0,\n",
       " 't12': 0,\n",
       " 't09': 0,\n",
       " 't06': 0,\n",
       " 't10': 0,\n",
       " 'p10': 0,\n",
       " 'p50': 0,\n",
       " 'p20': 0,\n",
       " 'p60': 0,\n",
       " 'p30': 0,\n",
       " 'p70': 0,\n",
       " 'p40': 0,\n",
       " 'p80': 0,\n",
       " 't22': 0,\n",
       " 't21': 0,\n",
       " 'p90': 0,\n",
       " 't05': 0,\n",
       " 't30': 0,\n",
       " 't36': 0,\n",
       " 't27': 0,\n",
       " 't29': 0,\n",
       " 't43': 0,\n",
       " 't48': 0}"
      ]
     },
     "execution_count": 7,
     "metadata": {},
     "output_type": "execute_result"
    }
   ],
   "source": [
    "star[0]"
   ]
  },
  {
   "cell_type": "code",
   "execution_count": 10,
   "metadata": {},
   "outputs": [
    {
     "name": "stdout",
     "output_type": "stream",
     "text": [
      "방화DT\n",
      "화곡DT\n",
      "김포공항DT\n",
      "신림DT\n",
      "낙성대DT\n",
      "구의DT\n",
      "공릉DT\n",
      "태릉입구역DT\n",
      "연희DT\n",
      "북가좌DT\n",
      "종암DT\n",
      "송파나루역DT\n",
      "송파방이DT\n",
      "송파마천사거리DT\n",
      "신정DT\n",
      "신월IC DT\n",
      "신월동DT\n",
      "진관DT\n",
      "강동구청DT\n",
      "강동암사DT\n",
      "구로오류DT\n"
     ]
    }
   ],
   "source": [
    "cnt = 0\n",
    "for store in star:\n",
    "    if store['s_name'][-2:] == 'DT':\n",
    "        print(store['s_name'])\n",
    "        cnt += 1"
   ]
  },
  {
   "cell_type": "code",
   "execution_count": 11,
   "metadata": {},
   "outputs": [
    {
     "data": {
      "text/plain": [
       "21"
      ]
     },
     "execution_count": 11,
     "metadata": {},
     "output_type": "execute_result"
    }
   ],
   "source": [
    "cnt"
   ]
  },
  {
   "cell_type": "code",
   "execution_count": 12,
   "metadata": {},
   "outputs": [
    {
     "name": "stdout",
     "output_type": "stream",
     "text": [
      "defaultdict(<class 'int'>, {'강남구': 88, '강북구': 6, '강서구': 25, '관악구': 12, '광진구': 19, '금천구': 13, '노원구': 14, '도봉구': 4, '동작구': 11, '마포구': 35, '서대문구': 22, '서초구': 48, '성북구': 15, '송파구': 34, '양천구': 17, '영등포구': 41, '은평구': 11, '종로구': 40, '중구': 55, '강동구': 17, '구로구': 14, '동대문구': 10, '성동구': 15, '용산구': 25, '중랑구': 8})\n"
     ]
    }
   ],
   "source": [
    "from collections import defaultdict\n",
    "temp = defaultdict(int)\n",
    "for store in star:\n",
    "    temp[store['gugun_name']] += 1\n",
    "print(temp)"
   ]
  },
  {
   "cell_type": "code",
   "execution_count": 15,
   "metadata": {},
   "outputs": [
    {
     "name": "stdout",
     "output_type": "stream",
     "text": [
      "2023-05-24 2\n",
      "2023-09-01 4\n",
      "2023-12-10 6\n",
      "2024-03-19 1\n",
      "2024-06-27 3\n",
      "2024-10-05 5\n",
      "2025-01-13 0\n",
      "2025-04-23 2\n",
      "2025-08-01 4\n",
      "2025-11-09 6\n"
     ]
    }
   ],
   "source": [
    "import datetime\n",
    "for x in range(100, 1001, 100):\n",
    "    date_ = datetime.datetime.now() + datetime.timedelta(days=x)\n",
    "    date_str = str(datetime.datetime.now() + datetime.timedelta(days=x))\n",
    "    print(date_str.split()[0], date_.weekday())"
   ]
  },
  {
   "cell_type": "code",
   "execution_count": 16,
   "metadata": {},
   "outputs": [
    {
     "name": "stdout",
     "output_type": "stream",
     "text": [
      "2023-05-24 수\n",
      "2023-09-01 금\n",
      "2023-12-10 일\n",
      "2024-03-19 화\n",
      "2024-06-27 목\n",
      "2024-10-05 토\n",
      "2025-01-13 월\n",
      "2025-04-23 수\n",
      "2025-08-01 금\n",
      "2025-11-09 일\n"
     ]
    }
   ],
   "source": [
    "master = dict(zip(range(0,7), \"월화수목금토일\"))\n",
    "for x in range(100, 1001, 100):\n",
    "    date_ = datetime.datetime.strptime(\"20230213\", \"%Y%m%d\") + datetime.timedelta(days=x)\n",
    "    date_str = str(datetime.datetime.now() + datetime.timedelta(days=x))\n",
    "    print(date_str.split()[0], master[date_.weekday()])"
   ]
  },
  {
   "cell_type": "code",
   "execution_count": 22,
   "metadata": {},
   "outputs": [
    {
     "name": "stdout",
     "output_type": "stream",
     "text": [
      "[(0, '월'), (1, '화'), (2, '수'), (3, '목'), (4, '금'), (5, '토'), (6, '일')]\n"
     ]
    }
   ],
   "source": [
    "print(list(zip(range(0,7), \"월화수목금토일\")))"
   ]
  },
  {
   "cell_type": "code",
   "execution_count": null,
   "metadata": {},
   "outputs": [],
   "source": []
  }
 ],
 "metadata": {
  "kernelspec": {
   "display_name": "Python 3 (ipykernel)",
   "language": "python",
   "name": "python3"
  },
  "language_info": {
   "codemirror_mode": {
    "name": "ipython",
    "version": 3
   },
   "file_extension": ".py",
   "mimetype": "text/x-python",
   "name": "python",
   "nbconvert_exporter": "python",
   "pygments_lexer": "ipython3",
   "version": "3.9.12"
  },
  "vscode": {
   "interpreter": {
    "hash": "b0fa6594d8f4cbf19f97940f81e996739fb7646882a419484c72d19e05852a7e"
   }
  }
 },
 "nbformat": 4,
 "nbformat_minor": 2
}
