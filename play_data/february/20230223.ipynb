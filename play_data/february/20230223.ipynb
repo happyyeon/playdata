{
 "cells": [
  {
   "cell_type": "code",
   "execution_count": 1,
   "metadata": {},
   "outputs": [
    {
     "data": {
      "text/plain": [
       "'/Users/happyeon/Desktop/data_science/play_data'"
      ]
     },
     "execution_count": 1,
     "metadata": {},
     "output_type": "execute_result"
    }
   ],
   "source": [
    "import os\n",
    "os.getcwd()"
   ]
  },
  {
   "cell_type": "code",
   "execution_count": null,
   "metadata": {},
   "outputs": [],
   "source": []
  },
  {
   "attachments": {},
   "cell_type": "markdown",
   "metadata": {},
   "source": [
    "### GS25에서 CSRF 값 가져오기"
   ]
  },
  {
   "cell_type": "code",
   "execution_count": 2,
   "metadata": {},
   "outputs": [],
   "source": [
    "import requests\n",
    "from bs4 import BeautifulSoup as BS\n",
    "url = \"http://gs25.gsretail.com/gscvs/ko/store-services/locations#;\"\n",
    "r = requests.get(url)\n",
    "bs = BS(r.text)\n",
    "csrf = bs.find(\"form\", id=\"CSRFForm\").find(\"input\")['value']\n"
   ]
  },
  {
   "cell_type": "code",
   "execution_count": 3,
   "metadata": {},
   "outputs": [
    {
     "data": {
      "text/plain": [
       "'71402d96-934c-43b4-acbf-ab5cdf5675b7'"
      ]
     },
     "execution_count": 3,
     "metadata": {},
     "output_type": "execute_result"
    }
   ],
   "source": [
    "csrf"
   ]
  },
  {
   "cell_type": "code",
   "execution_count": null,
   "metadata": {},
   "outputs": [],
   "source": []
  },
  {
   "attachments": {},
   "cell_type": "markdown",
   "metadata": {},
   "source": [
    "### Session 유지 기법"
   ]
  },
  {
   "cell_type": "code",
   "execution_count": 4,
   "metadata": {},
   "outputs": [],
   "source": [
    "with requests.Session() as s:\n",
    "    r = s.get(url)\n",
    "    bs = BS(r.text)\n",
    "    csrf = bs.find(\"form\", id=\"CSRFForm\").find(\"input\")['value']\n"
   ]
  },
  {
   "cell_type": "code",
   "execution_count": 5,
   "metadata": {},
   "outputs": [
    {
     "data": {
      "text/plain": [
       "'684363fa-0d96-4629-a5e2-1ee2fe45eca7'"
      ]
     },
     "execution_count": 5,
     "metadata": {},
     "output_type": "execute_result"
    }
   ],
   "source": [
    "csrf"
   ]
  },
  {
   "attachments": {},
   "cell_type": "markdown",
   "metadata": {},
   "source": [
    "### 전국 GS 편의점 모든 점포"
   ]
  },
  {
   "cell_type": "code",
   "execution_count": 12,
   "metadata": {},
   "outputs": [],
   "source": [
    "payload = {\"pageNum\"  : \"1\",\n",
    "\"pageSize\"  : \"100\",\n",
    "\"searchShopName\"  : \"\",\n",
    "\"searchSido\"  : \"11\",\n",
    "\"searchGugun\"  : \"\",\n",
    "\"searchDong\"  : \"\",\n",
    "\"searchType\"  : \"\",\n",
    "\"searchTypeService\"  : \"0\",\n",
    "\"searchTypeToto\"  : \"0\",\n",
    "\"searchTypeCafe25\"  : \"0\",\n",
    "\"searchTypeInstant\"  : \"0\",\n",
    "\"searchTypeDrug\"  : \"0\",\n",
    "\"searchTypeSelf25\"  : \"0\",\n",
    "\"searchTypePost\"  : \"0\",\n",
    "\"searchTypeATM\"  : \"0\",\n",
    "\"searchTypeWithdrawal\"  : \"0\",\n",
    "\"searchTypeTaxrefund\"  : \"0\",\n",
    "\"searchTypeSmartAtm\"  : \"0\",\n",
    "\"searchTypeSelfCookingUtensils\"  : \"0\",\n",
    "\"searchTypeDeliveryService\"  : \"0\",\n",
    "}\n"
   ]
  },
  {
   "cell_type": "code",
   "execution_count": 15,
   "metadata": {},
   "outputs": [],
   "source": [
    "\n",
    "master = {x.text : x['value'] for x in bs.find(\"select\", id=\"stb1\").findAll(\"option\")[1:]}"
   ]
  },
  {
   "cell_type": "code",
   "execution_count": 19,
   "metadata": {},
   "outputs": [],
   "source": [
    "import json\n",
    "import pandas as pd\n",
    "post_url = \"http://gs25.gsretail.com/gscvs/ko/store-services/locationList?CSRFToken={}\"\n",
    "total = []\n",
    "with requests.Session() as s:\n",
    "    r = s.get(url)\n",
    "    bs = BS(r.text)\n",
    "    csrf = bs.find(\"form\", id=\"CSRFForm\").find(\"input\")['value']\n",
    "    for code in master.values():\n",
    "        payload['pageSize'] = 5000\n",
    "        payload['searchSido'] = code\n",
    "        r2 = s.post(post_url.format(csrf), data=payload)\n",
    "        total.append(pd.DataFrame(json.loads(r2.json())['results']))\n"
   ]
  },
  {
   "cell_type": "code",
   "execution_count": 20,
   "metadata": {},
   "outputs": [],
   "source": [
    "gs = pd.concat(total)"
   ]
  },
  {
   "cell_type": "code",
   "execution_count": 21,
   "metadata": {},
   "outputs": [
    {
     "data": {
      "text/html": [
       "<div>\n",
       "<style scoped>\n",
       "    .dataframe tbody tr th:only-of-type {\n",
       "        vertical-align: middle;\n",
       "    }\n",
       "\n",
       "    .dataframe tbody tr th {\n",
       "        vertical-align: top;\n",
       "    }\n",
       "\n",
       "    .dataframe thead th {\n",
       "        text-align: right;\n",
       "    }\n",
       "</style>\n",
       "<table border=\"1\" class=\"dataframe\">\n",
       "  <thead>\n",
       "    <tr style=\"text-align: right;\">\n",
       "      <th></th>\n",
       "      <th>offeringService</th>\n",
       "      <th>shopCode</th>\n",
       "      <th>longs</th>\n",
       "      <th>address</th>\n",
       "      <th>shopName</th>\n",
       "      <th>lat</th>\n",
       "    </tr>\n",
       "  </thead>\n",
       "  <tbody>\n",
       "    <tr>\n",
       "      <th>0</th>\n",
       "      <td>[post]</td>\n",
       "      <td>VQ037</td>\n",
       "      <td>37.52831065</td>\n",
       "      <td>서울 양천구 목동서로159-1 (목1동 917-1, CBS방송국1층)</td>\n",
       "      <td>GS25CBS점</td>\n",
       "      <td>126.87486792</td>\n",
       "    </tr>\n",
       "    <tr>\n",
       "      <th>1</th>\n",
       "      <td>[cafe25, post]</td>\n",
       "      <td>VO395</td>\n",
       "      <td>37.5783899</td>\n",
       "      <td>서울 마포구 매봉산로75, 1층 107호 (상암동 1610)</td>\n",
       "      <td>GS25DDMC점</td>\n",
       "      <td>126.89294205</td>\n",
       "    </tr>\n",
       "    <tr>\n",
       "      <th>2</th>\n",
       "      <td>[cafe25, drug, post]</td>\n",
       "      <td>VW887</td>\n",
       "      <td>37.57410234</td>\n",
       "      <td>서울 서대문구 가재울미래로2, 203동 101호 (남가좌동 385, 2단지)</td>\n",
       "      <td>GS25DMC가재울점</td>\n",
       "      <td>126.91639401</td>\n",
       "    </tr>\n",
       "    <tr>\n",
       "      <th>3</th>\n",
       "      <td>[cafe25, instant, post]</td>\n",
       "      <td>V9A48</td>\n",
       "      <td>37.50235508</td>\n",
       "      <td>서울 강남구 테헤란로223, 1층 101호 (역삼동 677-25, 큰길타워빌딩)</td>\n",
       "      <td>GS25DXLAB점</td>\n",
       "      <td>127.04069826</td>\n",
       "    </tr>\n",
       "    <tr>\n",
       "      <th>4</th>\n",
       "      <td>[drug, withdrawal]</td>\n",
       "      <td>VI989</td>\n",
       "      <td>37.55513349</td>\n",
       "      <td>서울 강동구 고덕로39 (암사3동 441-14)</td>\n",
       "      <td>GS25G고덕점</td>\n",
       "      <td>127.12956973</td>\n",
       "    </tr>\n",
       "    <tr>\n",
       "      <th>...</th>\n",
       "      <td>...</td>\n",
       "      <td>...</td>\n",
       "      <td>...</td>\n",
       "      <td>...</td>\n",
       "      <td>...</td>\n",
       "      <td>...</td>\n",
       "    </tr>\n",
       "    <tr>\n",
       "      <th>376</th>\n",
       "      <td>[cafe25, instant, drug, post]</td>\n",
       "      <td>V9377</td>\n",
       "      <td>33.51836478</td>\n",
       "      <td>제주 제주시 동화로1길49-9 (화북일동 13-6)</td>\n",
       "      <td>GS25화북주공점</td>\n",
       "      <td>126.57739082</td>\n",
       "    </tr>\n",
       "    <tr>\n",
       "      <th>377</th>\n",
       "      <td>[cafe25, post]</td>\n",
       "      <td>V4S83</td>\n",
       "      <td>33.52321296</td>\n",
       "      <td>제주 제주시 진남로33 (화북일동 4201-2)</td>\n",
       "      <td>GS25화북진남점</td>\n",
       "      <td>126.56390997</td>\n",
       "    </tr>\n",
       "    <tr>\n",
       "      <th>378</th>\n",
       "      <td>[cafe25, instant, withdrawal]</td>\n",
       "      <td>VY067</td>\n",
       "      <td>33.24402459</td>\n",
       "      <td>제주 서귀포시 안덕면 화순중앙로94 (화순리 358-3)</td>\n",
       "      <td>GS25화순아일랜드점</td>\n",
       "      <td>126.33601411</td>\n",
       "    </tr>\n",
       "    <tr>\n",
       "      <th>379</th>\n",
       "      <td>[cafe25, drug, withdrawal, self_cook]</td>\n",
       "      <td>VDB29</td>\n",
       "      <td>33.24653847</td>\n",
       "      <td>제주 서귀포시 안덕면 화순로142, C동 1층 (화순리 1055-3)</td>\n",
       "      <td>GS25화순육거리점</td>\n",
       "      <td>126.33119176</td>\n",
       "    </tr>\n",
       "    <tr>\n",
       "      <th>380</th>\n",
       "      <td>[cafe25, instant, drug, withdrawal]</td>\n",
       "      <td>V4B85</td>\n",
       "      <td>33.26036029</td>\n",
       "      <td>제주 서귀포시 일주동로8139 (하효동 631-2)</td>\n",
       "      <td>GS25효돈사거리점</td>\n",
       "      <td>126.61782937</td>\n",
       "    </tr>\n",
       "  </tbody>\n",
       "</table>\n",
       "<p>16276 rows × 6 columns</p>\n",
       "</div>"
      ],
      "text/plain": [
       "                           offeringService shopCode        longs  \\\n",
       "0                                   [post]    VQ037  37.52831065   \n",
       "1                           [cafe25, post]    VO395   37.5783899   \n",
       "2                     [cafe25, drug, post]    VW887  37.57410234   \n",
       "3                  [cafe25, instant, post]    V9A48  37.50235508   \n",
       "4                       [drug, withdrawal]    VI989  37.55513349   \n",
       "..                                     ...      ...          ...   \n",
       "376          [cafe25, instant, drug, post]    V9377  33.51836478   \n",
       "377                         [cafe25, post]    V4S83  33.52321296   \n",
       "378          [cafe25, instant, withdrawal]    VY067  33.24402459   \n",
       "379  [cafe25, drug, withdrawal, self_cook]    VDB29  33.24653847   \n",
       "380    [cafe25, instant, drug, withdrawal]    V4B85  33.26036029   \n",
       "\n",
       "                                          address     shopName           lat  \n",
       "0          서울 양천구 목동서로159-1 (목1동 917-1, CBS방송국1층)     GS25CBS점  126.87486792  \n",
       "1               서울 마포구 매봉산로75, 1층 107호 (상암동 1610)    GS25DDMC점  126.89294205  \n",
       "2      서울 서대문구 가재울미래로2, 203동 101호 (남가좌동 385, 2단지)  GS25DMC가재울점  126.91639401  \n",
       "3    서울 강남구 테헤란로223, 1층 101호 (역삼동 677-25, 큰길타워빌딩)   GS25DXLAB점  127.04069826  \n",
       "4                      서울 강동구 고덕로39 (암사3동 441-14)     GS25G고덕점  127.12956973  \n",
       "..                                            ...          ...           ...  \n",
       "376                  제주 제주시 동화로1길49-9 (화북일동 13-6)    GS25화북주공점  126.57739082  \n",
       "377                    제주 제주시 진남로33 (화북일동 4201-2)    GS25화북진남점  126.56390997  \n",
       "378               제주 서귀포시 안덕면 화순중앙로94 (화순리 358-3)  GS25화순아일랜드점  126.33601411  \n",
       "379        제주 서귀포시 안덕면 화순로142, C동 1층 (화순리 1055-3)   GS25화순육거리점  126.33119176  \n",
       "380                  제주 서귀포시 일주동로8139 (하효동 631-2)   GS25효돈사거리점  126.61782937  \n",
       "\n",
       "[16276 rows x 6 columns]"
      ]
     },
     "execution_count": 21,
     "metadata": {},
     "output_type": "execute_result"
    }
   ],
   "source": [
    "gs"
   ]
  },
  {
   "cell_type": "code",
   "execution_count": 22,
   "metadata": {},
   "outputs": [],
   "source": [
    "gs['시'] = gs['address'].apply(lambda x : x.split()[0])"
   ]
  },
  {
   "cell_type": "code",
   "execution_count": 23,
   "metadata": {},
   "outputs": [
    {
     "data": {
      "text/plain": [
       "경기       4462\n",
       "서울       3107\n",
       "경남       1019\n",
       "부산        905\n",
       "인천        897\n",
       "경북        799\n",
       "충남        757\n",
       "강원        655\n",
       "대구        629\n",
       "충북        527\n",
       "전북        463\n",
       "대전        458\n",
       "전남        434\n",
       "제주        379\n",
       "광주        350\n",
       "울산        331\n",
       "세종        100\n",
       "부산광역시       2\n",
       "제주특별자       2\n",
       "Name: 시, dtype: int64"
      ]
     },
     "execution_count": 23,
     "metadata": {},
     "output_type": "execute_result"
    }
   ],
   "source": [
    "gs['시'].value_counts()"
   ]
  },
  {
   "cell_type": "code",
   "execution_count": 41,
   "metadata": {},
   "outputs": [],
   "source": [
    "gs.loc[gs['offeringService'].notnull(), '의료'] = gs[gs['offeringService'].notnull()]['offeringService'].apply(lambda x :\n",
    "                                    'Y' if 'drug' in x else 'N')\n"
   ]
  },
  {
   "cell_type": "code",
   "execution_count": 42,
   "metadata": {},
   "outputs": [
    {
     "data": {
      "text/plain": [
       "Y    0.82795\n",
       "N    0.17205\n",
       "Name: 의료, dtype: float64"
      ]
     },
     "execution_count": 42,
     "metadata": {},
     "output_type": "execute_result"
    }
   ],
   "source": [
    "gs['의료'].value_counts(normalize=True)"
   ]
  },
  {
   "cell_type": "code",
   "execution_count": 44,
   "metadata": {},
   "outputs": [
    {
     "data": {
      "text/plain": [
       "시\n",
       "강원        402\n",
       "경기       3517\n",
       "경남        845\n",
       "경북        633\n",
       "광주        312\n",
       "대구        576\n",
       "대전        403\n",
       "부산        808\n",
       "부산광역시       2\n",
       "서울       2594\n",
       "세종         56\n",
       "울산        280\n",
       "인천        746\n",
       "전남        338\n",
       "전북        397\n",
       "제주        221\n",
       "제주특별자       1\n",
       "충남        571\n",
       "충북        421\n",
       "Name: 의료, dtype: int64"
      ]
     },
     "execution_count": 44,
     "metadata": {},
     "output_type": "execute_result"
    }
   ],
   "source": [
    "gs[gs['의료'] == 'Y'].groupby(['시'])['의료'].count()"
   ]
  },
  {
   "cell_type": "code",
   "execution_count": 45,
   "metadata": {},
   "outputs": [],
   "source": [
    "gs['의료'] = gs['의료'].fillna('N')"
   ]
  },
  {
   "cell_type": "code",
   "execution_count": 46,
   "metadata": {},
   "outputs": [
    {
     "data": {
      "text/plain": [
       "offeringService    426\n",
       "shopCode             0\n",
       "longs                0\n",
       "address              0\n",
       "shopName             0\n",
       "lat                  0\n",
       "시                    0\n",
       "의료                   0\n",
       "dtype: int64"
      ]
     },
     "execution_count": 46,
     "metadata": {},
     "output_type": "execute_result"
    }
   ],
   "source": [
    "gs.isnull().sum()"
   ]
  },
  {
   "cell_type": "code",
   "execution_count": 47,
   "metadata": {},
   "outputs": [
    {
     "data": {
      "text/html": [
       "<div>\n",
       "<style scoped>\n",
       "    .dataframe tbody tr th:only-of-type {\n",
       "        vertical-align: middle;\n",
       "    }\n",
       "\n",
       "    .dataframe tbody tr th {\n",
       "        vertical-align: top;\n",
       "    }\n",
       "\n",
       "    .dataframe thead th {\n",
       "        text-align: right;\n",
       "    }\n",
       "</style>\n",
       "<table border=\"1\" class=\"dataframe\">\n",
       "  <thead>\n",
       "    <tr style=\"text-align: right;\">\n",
       "      <th></th>\n",
       "      <th>offeringService</th>\n",
       "      <th>shopCode</th>\n",
       "      <th>longs</th>\n",
       "      <th>address</th>\n",
       "      <th>shopName</th>\n",
       "      <th>lat</th>\n",
       "      <th>시</th>\n",
       "      <th>의료</th>\n",
       "    </tr>\n",
       "  </thead>\n",
       "  <tbody>\n",
       "    <tr>\n",
       "      <th>159</th>\n",
       "      <td>[toto, cafe25, instant, drug, post, atm, withd...</td>\n",
       "      <td>V9373</td>\n",
       "      <td>33.489818</td>\n",
       "      <td>제주 제주시 도령로76(연동 251-57)</td>\n",
       "      <td>GS25연동신광점</td>\n",
       "      <td>126.48660204</td>\n",
       "      <td>제주</td>\n",
       "      <td>Y</td>\n",
       "    </tr>\n",
       "  </tbody>\n",
       "</table>\n",
       "</div>"
      ],
      "text/plain": [
       "                                       offeringService shopCode      longs  \\\n",
       "159  [toto, cafe25, instant, drug, post, atm, withd...    V9373  33.489818   \n",
       "\n",
       "                     address   shopName           lat   시 의료  \n",
       "159  제주 제주시 도령로76(연동 251-57)  GS25연동신광점  126.48660204  제주  Y  "
      ]
     },
     "execution_count": 47,
     "metadata": {},
     "output_type": "execute_result"
    }
   ],
   "source": [
    "gs[gs['offeringService'].notnull()][gs[gs['offeringService'].notnull()]['offeringService'].apply(lambda x :  \\\n",
    "                     len(x) == 11)]"
   ]
  },
  {
   "attachments": {},
   "cell_type": "markdown",
   "metadata": {},
   "source": [
    "### 전국 세븐 일레븐\n",
    "\n",
    "#### 셀레니움은 requests가 JS를 return할 때 가져다 쓴다.\n",
    "\n",
    "JS는 데이터를 추출하기에 부적합하기 때문"
   ]
  },
  {
   "cell_type": "code",
   "execution_count": 122,
   "metadata": {},
   "outputs": [],
   "source": [
    "from selenium import webdriver\n",
    "driver = webdriver.Chrome()"
   ]
  },
  {
   "cell_type": "code",
   "execution_count": 123,
   "metadata": {},
   "outputs": [],
   "source": [
    "url = \"https://www.7-eleven.co.kr/\"\n",
    "driver.get(url)\n"
   ]
  },
  {
   "cell_type": "code",
   "execution_count": 124,
   "metadata": {},
   "outputs": [],
   "source": [
    "from selenium.webdriver.common.by import By\n",
    "target_store = \"#header > div > div > div.head_util > a.util_store.store_open\"\n"
   ]
  },
  {
   "cell_type": "code",
   "execution_count": null,
   "metadata": {},
   "outputs": [],
   "source": [
    "def click(selector):\n",
    "    driver.find_element(By.CSS_SELECTOR, selector).click()\n",
    "    return "
   ]
  },
  {
   "cell_type": "code",
   "execution_count": 125,
   "metadata": {},
   "outputs": [],
   "source": [
    "click(target_store)"
   ]
  },
  {
   "cell_type": "code",
   "execution_count": 78,
   "metadata": {},
   "outputs": [],
   "source": [
    "page = driver.page_source"
   ]
  },
  {
   "cell_type": "code",
   "execution_count": 79,
   "metadata": {},
   "outputs": [],
   "source": [
    "def return_seven(page):\n",
    "    global seven_total\n",
    "    seven = BS(page)\n",
    "    seven_total = []\n",
    "    for tmp in seven.find(\"div\", class_=\"list_stroe\").findAll(\"li\"):\n",
    "        seven_dict = {}\n",
    "        seven_dict['offeringService'] = [x['alt'] for x in tmp.findAll(\"img\")]\n",
    "        seven_dict['shopName'] = tmp.find(\"span\").text.strip()\n",
    "        seven_dict['address']= \" \".join(tmp.findAll(\"span\")[-2].text.split())    \n",
    "        if len(seven_dict['address']) < 2 :\n",
    "            seven_dict['address']= \" \".join(tmp.findAll(\"span\")[-3].text.split())    \n",
    "        _, lat, lon = re.findall(\"(?<=\\().+(?=\\))\", tmp.find('a')['href'])[0].split(\",\")\n",
    "        seven_dict['longs'] = lon\n",
    "        seven_dict['lat'] = lat\n",
    "        seven_total.append(seven_dict)\n",
    "    return pd.DataFrame(seven_total)"
   ]
  },
  {
   "attachments": {},
   "cell_type": "markdown",
   "metadata": {},
   "source": [
    "1. 웹드라이버 시/구 페이지\n",
    "2. 시/구 세븐일레븐 점포\n",
    "3. output: 전국 세븐일레븐 점포"
   ]
  },
  {
   "cell_type": "code",
   "execution_count": 126,
   "metadata": {},
   "outputs": [
    {
     "name": "stdout",
     "output_type": "stream",
     "text": [
      "e --> list index out of range\n",
      "e --> list index out of range\n"
     ]
    },
    {
     "data": {
      "text/html": [
       "<div>\n",
       "<style scoped>\n",
       "    .dataframe tbody tr th:only-of-type {\n",
       "        vertical-align: middle;\n",
       "    }\n",
       "\n",
       "    .dataframe tbody tr th {\n",
       "        vertical-align: top;\n",
       "    }\n",
       "\n",
       "    .dataframe thead th {\n",
       "        text-align: right;\n",
       "    }\n",
       "</style>\n",
       "<table border=\"1\" class=\"dataframe\">\n",
       "  <thead>\n",
       "    <tr style=\"text-align: right;\">\n",
       "      <th></th>\n",
       "      <th>offeringService</th>\n",
       "      <th>shopName</th>\n",
       "      <th>address</th>\n",
       "      <th>longs</th>\n",
       "      <th>lat</th>\n",
       "    </tr>\n",
       "  </thead>\n",
       "  <tbody>\n",
       "    <tr>\n",
       "      <th>0</th>\n",
       "      <td>[의약품, 시디]</td>\n",
       "      <td>강릉5주공점</td>\n",
       "      <td>강원도 강릉시 월대산로 43</td>\n",
       "      <td>128.91519608</td>\n",
       "      <td>37.760113214</td>\n",
       "    </tr>\n",
       "    <tr>\n",
       "      <th>1</th>\n",
       "      <td>[]</td>\n",
       "      <td>강릉가작로점</td>\n",
       "      <td>강원도 강릉시 가작로274번길 19 1층</td>\n",
       "      <td>128.903952839001</td>\n",
       "      <td>37.7690256763271</td>\n",
       "    </tr>\n",
       "    <tr>\n",
       "      <th>2</th>\n",
       "      <td>[]</td>\n",
       "      <td>강릉강문스타점</td>\n",
       "      <td>강원도 강릉시 창해로350번길 21 (강문동)</td>\n",
       "      <td>128.917594053613</td>\n",
       "      <td>37.7958884030248</td>\n",
       "    </tr>\n",
       "    <tr>\n",
       "      <th>3</th>\n",
       "      <td>[24시간, 카페, 의약품, 페덱스서비스, 스마트픽]</td>\n",
       "      <td>강릉강문점</td>\n",
       "      <td>강원도 강릉시 해안로 298-7 B블록 101호, 102호(강문동)</td>\n",
       "      <td>128.91970091425162</td>\n",
       "      <td>37.79232227004757</td>\n",
       "    </tr>\n",
       "    <tr>\n",
       "      <th>4</th>\n",
       "      <td>[]</td>\n",
       "      <td>강릉강변로점</td>\n",
       "      <td>강원도 강릉시 강변로 262</td>\n",
       "      <td>128.897338589574</td>\n",
       "      <td>37.749106410644</td>\n",
       "    </tr>\n",
       "    <tr>\n",
       "      <th>...</th>\n",
       "      <td>...</td>\n",
       "      <td>...</td>\n",
       "      <td>...</td>\n",
       "      <td>...</td>\n",
       "      <td>...</td>\n",
       "    </tr>\n",
       "    <tr>\n",
       "      <th>63</th>\n",
       "      <td>[]</td>\n",
       "      <td>충주충청대로점</td>\n",
       "      <td>충청북도 충주시 주덕읍 충청대로 2323</td>\n",
       "      <td>127.778647057936</td>\n",
       "      <td>36.9635309277246</td>\n",
       "    </tr>\n",
       "    <tr>\n",
       "      <th>64</th>\n",
       "      <td>[]</td>\n",
       "      <td>충주탄금대로점</td>\n",
       "      <td>충청북도 충주시 탄금대로 224 (칠금동)</td>\n",
       "      <td>127.907334358097</td>\n",
       "      <td>36.9843867570316</td>\n",
       "    </tr>\n",
       "    <tr>\n",
       "      <th>65</th>\n",
       "      <td>[24시간, 카페, 치킨, 의약품, 예약주문, 페덱스서비스, 시디, 스마트픽]</td>\n",
       "      <td>충주호암점</td>\n",
       "      <td>충청북도 충주시 호암중앙2로 32 101호(호암동)</td>\n",
       "      <td>127.94029493</td>\n",
       "      <td>36.955341151</td>\n",
       "    </tr>\n",
       "    <tr>\n",
       "      <th>66</th>\n",
       "      <td>[]</td>\n",
       "      <td>충주호암LH점</td>\n",
       "      <td>충청북도 충주시 호암수청2로 56</td>\n",
       "      <td>127.927072494247</td>\n",
       "      <td>36.9554585474234</td>\n",
       "    </tr>\n",
       "    <tr>\n",
       "      <th>67</th>\n",
       "      <td>[]</td>\n",
       "      <td>충주힐스테이트점</td>\n",
       "      <td>충청북도 충주시 호암수청1로 29 (호암동, LH힐스테이트)</td>\n",
       "      <td>127.92485286576</td>\n",
       "      <td>36.9557507686934</td>\n",
       "    </tr>\n",
       "  </tbody>\n",
       "</table>\n",
       "<p>12474 rows × 5 columns</p>\n",
       "</div>"
      ],
      "text/plain": [
       "                                offeringService  shopName  \\\n",
       "0                                     [의약품, 시디]    강릉5주공점   \n",
       "1                                            []    강릉가작로점   \n",
       "2                                            []   강릉강문스타점   \n",
       "3                 [24시간, 카페, 의약품, 페덱스서비스, 스마트픽]     강릉강문점   \n",
       "4                                            []    강릉강변로점   \n",
       "..                                          ...       ...   \n",
       "63                                           []   충주충청대로점   \n",
       "64                                           []   충주탄금대로점   \n",
       "65  [24시간, 카페, 치킨, 의약품, 예약주문, 페덱스서비스, 시디, 스마트픽]     충주호암점   \n",
       "66                                           []   충주호암LH점   \n",
       "67                                           []  충주힐스테이트점   \n",
       "\n",
       "                                  address               longs  \\\n",
       "0                         강원도 강릉시 월대산로 43        128.91519608   \n",
       "1                  강원도 강릉시 가작로274번길 19 1층    128.903952839001   \n",
       "2               강원도 강릉시 창해로350번길 21 (강문동)    128.917594053613   \n",
       "3   강원도 강릉시 해안로 298-7 B블록 101호, 102호(강문동)  128.91970091425162   \n",
       "4                         강원도 강릉시 강변로 262    128.897338589574   \n",
       "..                                    ...                 ...   \n",
       "63                 충청북도 충주시 주덕읍 충청대로 2323    127.778647057936   \n",
       "64                충청북도 충주시 탄금대로 224 (칠금동)    127.907334358097   \n",
       "65           충청북도 충주시 호암중앙2로 32 101호(호암동)        127.94029493   \n",
       "66                     충청북도 충주시 호암수청2로 56    127.927072494247   \n",
       "67      충청북도 충주시 호암수청1로 29 (호암동, LH힐스테이트)     127.92485286576   \n",
       "\n",
       "                  lat  \n",
       "0        37.760113214  \n",
       "1    37.7690256763271  \n",
       "2    37.7958884030248  \n",
       "3   37.79232227004757  \n",
       "4     37.749106410644  \n",
       "..                ...  \n",
       "63   36.9635309277246  \n",
       "64   36.9843867570316  \n",
       "65       36.955341151  \n",
       "66   36.9554585474234  \n",
       "67   36.9557507686934  \n",
       "\n",
       "[12474 rows x 5 columns]"
      ]
     },
     "execution_count": 126,
     "metadata": {},
     "output_type": "execute_result"
    }
   ],
   "source": [
    "import pandas as pd,time\n",
    "korea_seven = []\n",
    "for i in range(2,19):\n",
    "    click('#storeLaySido')\n",
    "    time.sleep(2)\n",
    "    click(f'#storeLaySido > option:nth-child({i})')\n",
    "    gugun_length = len(BS(driver.page_source).find('select', id='storeLayGu').findAll(\"option\"))\n",
    "    for j in range(2,gugun_length+1):\n",
    "        try:\n",
    "            click(\"#storeLayGu\")\n",
    "            time.sleep(2)\n",
    "            click(f\"#storeLayGu > option:nth-child({j})\")\n",
    "            click(\"#storeButton1\")\n",
    "            time.sleep(2)\n",
    "            korea_seven.append(return_seven(driver.page_source))\n",
    "        except Exception as ex:\n",
    "            print(f\"e --> {ex}\")\n",
    "        \n",
    "\n",
    "pd.concat(korea_seven)\n",
    "        "
   ]
  },
  {
   "cell_type": "code",
   "execution_count": 127,
   "metadata": {},
   "outputs": [
    {
     "data": {
      "text/html": [
       "<div>\n",
       "<style scoped>\n",
       "    .dataframe tbody tr th:only-of-type {\n",
       "        vertical-align: middle;\n",
       "    }\n",
       "\n",
       "    .dataframe tbody tr th {\n",
       "        vertical-align: top;\n",
       "    }\n",
       "\n",
       "    .dataframe thead th {\n",
       "        text-align: right;\n",
       "    }\n",
       "</style>\n",
       "<table border=\"1\" class=\"dataframe\">\n",
       "  <thead>\n",
       "    <tr style=\"text-align: right;\">\n",
       "      <th></th>\n",
       "      <th>offeringService</th>\n",
       "      <th>shopName</th>\n",
       "      <th>address</th>\n",
       "      <th>longs</th>\n",
       "      <th>lat</th>\n",
       "    </tr>\n",
       "  </thead>\n",
       "  <tbody>\n",
       "    <tr>\n",
       "      <th>0</th>\n",
       "      <td>[의약품, 시디]</td>\n",
       "      <td>강릉5주공점</td>\n",
       "      <td>강원도 강릉시 월대산로 43</td>\n",
       "      <td>128.91519608</td>\n",
       "      <td>37.760113214</td>\n",
       "    </tr>\n",
       "    <tr>\n",
       "      <th>1</th>\n",
       "      <td>[]</td>\n",
       "      <td>강릉가작로점</td>\n",
       "      <td>강원도 강릉시 가작로274번길 19 1층</td>\n",
       "      <td>128.903952839001</td>\n",
       "      <td>37.7690256763271</td>\n",
       "    </tr>\n",
       "    <tr>\n",
       "      <th>2</th>\n",
       "      <td>[]</td>\n",
       "      <td>강릉강문스타점</td>\n",
       "      <td>강원도 강릉시 창해로350번길 21 (강문동)</td>\n",
       "      <td>128.917594053613</td>\n",
       "      <td>37.7958884030248</td>\n",
       "    </tr>\n",
       "    <tr>\n",
       "      <th>3</th>\n",
       "      <td>[24시간, 카페, 의약품, 페덱스서비스, 스마트픽]</td>\n",
       "      <td>강릉강문점</td>\n",
       "      <td>강원도 강릉시 해안로 298-7 B블록 101호, 102호(강문동)</td>\n",
       "      <td>128.91970091425162</td>\n",
       "      <td>37.79232227004757</td>\n",
       "    </tr>\n",
       "    <tr>\n",
       "      <th>4</th>\n",
       "      <td>[]</td>\n",
       "      <td>강릉강변로점</td>\n",
       "      <td>강원도 강릉시 강변로 262</td>\n",
       "      <td>128.897338589574</td>\n",
       "      <td>37.749106410644</td>\n",
       "    </tr>\n",
       "    <tr>\n",
       "      <th>...</th>\n",
       "      <td>...</td>\n",
       "      <td>...</td>\n",
       "      <td>...</td>\n",
       "      <td>...</td>\n",
       "      <td>...</td>\n",
       "    </tr>\n",
       "    <tr>\n",
       "      <th>63</th>\n",
       "      <td>[]</td>\n",
       "      <td>충주충청대로점</td>\n",
       "      <td>충청북도 충주시 주덕읍 충청대로 2323</td>\n",
       "      <td>127.778647057936</td>\n",
       "      <td>36.9635309277246</td>\n",
       "    </tr>\n",
       "    <tr>\n",
       "      <th>64</th>\n",
       "      <td>[]</td>\n",
       "      <td>충주탄금대로점</td>\n",
       "      <td>충청북도 충주시 탄금대로 224 (칠금동)</td>\n",
       "      <td>127.907334358097</td>\n",
       "      <td>36.9843867570316</td>\n",
       "    </tr>\n",
       "    <tr>\n",
       "      <th>65</th>\n",
       "      <td>[24시간, 카페, 치킨, 의약품, 예약주문, 페덱스서비스, 시디, 스마트픽]</td>\n",
       "      <td>충주호암점</td>\n",
       "      <td>충청북도 충주시 호암중앙2로 32 101호(호암동)</td>\n",
       "      <td>127.94029493</td>\n",
       "      <td>36.955341151</td>\n",
       "    </tr>\n",
       "    <tr>\n",
       "      <th>66</th>\n",
       "      <td>[]</td>\n",
       "      <td>충주호암LH점</td>\n",
       "      <td>충청북도 충주시 호암수청2로 56</td>\n",
       "      <td>127.927072494247</td>\n",
       "      <td>36.9554585474234</td>\n",
       "    </tr>\n",
       "    <tr>\n",
       "      <th>67</th>\n",
       "      <td>[]</td>\n",
       "      <td>충주힐스테이트점</td>\n",
       "      <td>충청북도 충주시 호암수청1로 29 (호암동, LH힐스테이트)</td>\n",
       "      <td>127.92485286576</td>\n",
       "      <td>36.9557507686934</td>\n",
       "    </tr>\n",
       "  </tbody>\n",
       "</table>\n",
       "<p>12474 rows × 5 columns</p>\n",
       "</div>"
      ],
      "text/plain": [
       "                                offeringService  shopName  \\\n",
       "0                                     [의약품, 시디]    강릉5주공점   \n",
       "1                                            []    강릉가작로점   \n",
       "2                                            []   강릉강문스타점   \n",
       "3                 [24시간, 카페, 의약품, 페덱스서비스, 스마트픽]     강릉강문점   \n",
       "4                                            []    강릉강변로점   \n",
       "..                                          ...       ...   \n",
       "63                                           []   충주충청대로점   \n",
       "64                                           []   충주탄금대로점   \n",
       "65  [24시간, 카페, 치킨, 의약품, 예약주문, 페덱스서비스, 시디, 스마트픽]     충주호암점   \n",
       "66                                           []   충주호암LH점   \n",
       "67                                           []  충주힐스테이트점   \n",
       "\n",
       "                                  address               longs  \\\n",
       "0                         강원도 강릉시 월대산로 43        128.91519608   \n",
       "1                  강원도 강릉시 가작로274번길 19 1층    128.903952839001   \n",
       "2               강원도 강릉시 창해로350번길 21 (강문동)    128.917594053613   \n",
       "3   강원도 강릉시 해안로 298-7 B블록 101호, 102호(강문동)  128.91970091425162   \n",
       "4                         강원도 강릉시 강변로 262    128.897338589574   \n",
       "..                                    ...                 ...   \n",
       "63                 충청북도 충주시 주덕읍 충청대로 2323    127.778647057936   \n",
       "64                충청북도 충주시 탄금대로 224 (칠금동)    127.907334358097   \n",
       "65           충청북도 충주시 호암중앙2로 32 101호(호암동)        127.94029493   \n",
       "66                     충청북도 충주시 호암수청2로 56    127.927072494247   \n",
       "67      충청북도 충주시 호암수청1로 29 (호암동, LH힐스테이트)     127.92485286576   \n",
       "\n",
       "                  lat  \n",
       "0        37.760113214  \n",
       "1    37.7690256763271  \n",
       "2    37.7958884030248  \n",
       "3   37.79232227004757  \n",
       "4     37.749106410644  \n",
       "..                ...  \n",
       "63   36.9635309277246  \n",
       "64   36.9843867570316  \n",
       "65       36.955341151  \n",
       "66   36.9554585474234  \n",
       "67   36.9557507686934  \n",
       "\n",
       "[12474 rows x 5 columns]"
      ]
     },
     "execution_count": 127,
     "metadata": {},
     "output_type": "execute_result"
    }
   ],
   "source": [
    "korea_seven = pd.concat(korea_seven)\n",
    "korea_seven"
   ]
  },
  {
   "cell_type": "code",
   "execution_count": null,
   "metadata": {},
   "outputs": [],
   "source": []
  }
 ],
 "metadata": {
  "kernelspec": {
   "display_name": "base",
   "language": "python",
   "name": "python3"
  },
  "language_info": {
   "codemirror_mode": {
    "name": "ipython",
    "version": 3
   },
   "file_extension": ".py",
   "mimetype": "text/x-python",
   "name": "python",
   "nbconvert_exporter": "python",
   "pygments_lexer": "ipython3",
   "version": "3.9.12"
  },
  "orig_nbformat": 4,
  "vscode": {
   "interpreter": {
    "hash": "76aed67fffaa2ada1f21a296dd75d62c48e8b262e4f6e76d80a4eebf4a64ce2a"
   }
  }
 },
 "nbformat": 4,
 "nbformat_minor": 2
}
