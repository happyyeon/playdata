{
 "cells": [
  {
   "cell_type": "markdown",
   "id": "14182afd",
   "metadata": {},
   "source": [
    "# 절대 경로 / 상대 경로\n",
    "\n",
    "- 절대 경로: /Users/happyeon/Desktop/play_data/test\n",
    "- 상대 경로: ./test"
   ]
  },
  {
   "cell_type": "code",
   "execution_count": 2,
   "id": "c3f9780c",
   "metadata": {},
   "outputs": [
    {
     "data": {
      "text/plain": [
       "'/Users/happyeon/Desktop/data_science/play_data'"
      ]
     },
     "execution_count": 2,
     "metadata": {},
     "output_type": "execute_result"
    }
   ],
   "source": [
    "import os\n",
    "os.getcwd()"
   ]
  },
  {
   "cell_type": "code",
   "execution_count": 3,
   "id": "4de64b50",
   "metadata": {},
   "outputs": [],
   "source": [
    "os.mkdir('test')"
   ]
  },
  {
   "cell_type": "code",
   "execution_count": 4,
   "id": "71d09b03",
   "metadata": {},
   "outputs": [],
   "source": [
    "f = open(\"./encore.txt\", \"w\", encoding=\"utf-8\")"
   ]
  },
  {
   "cell_type": "code",
   "execution_count": 5,
   "id": "53b861c2",
   "metadata": {},
   "outputs": [],
   "source": [
    "f.write(\"Hi\")\n",
    "f.close()"
   ]
  },
  {
   "cell_type": "code",
   "execution_count": 6,
   "id": "36d2c15c",
   "metadata": {},
   "outputs": [],
   "source": [
    "f = open(\"./pic.txt\", \"w\", encoding=\"utf-8\")\n",
    "for roots,dirs,files in os.walk(\"./\"):\n",
    "    for file in files:\n",
    "        f.write(f\"{roots}/{file}\\n\")\n",
    "f.close() # 파일을 닫아줘야 저장이 된다."
   ]
  },
  {
   "cell_type": "code",
   "execution_count": 13,
   "id": "37f0d99e",
   "metadata": {},
   "outputs": [],
   "source": [
    "if not os.path.isdir(\"./exercise\"):\n",
    "    os.mkdir(\"exercise\")"
   ]
  },
  {
   "cell_type": "code",
   "execution_count": 14,
   "id": "72715449",
   "metadata": {},
   "outputs": [
    {
     "data": {
      "text/plain": [
       "'/Users/happyeon/Desktop/data_science/play_data'"
      ]
     },
     "execution_count": 14,
     "metadata": {},
     "output_type": "execute_result"
    }
   ],
   "source": [
    "import os\n",
    "os.getcwd()"
   ]
  },
  {
   "cell_type": "code",
   "execution_count": 19,
   "id": "0a6762a2",
   "metadata": {},
   "outputs": [],
   "source": [
    "os.chdir(\"./exercise\")"
   ]
  },
  {
   "cell_type": "code",
   "execution_count": 20,
   "id": "b91eb951",
   "metadata": {},
   "outputs": [
    {
     "data": {
      "text/plain": [
       "'/Users/happyeon/Desktop/data_science/play_data/exercise'"
      ]
     },
     "execution_count": 20,
     "metadata": {},
     "output_type": "execute_result"
    }
   ],
   "source": [
    "os.getcwd()"
   ]
  },
  {
   "cell_type": "code",
   "execution_count": 22,
   "id": "e55b3433",
   "metadata": {},
   "outputs": [],
   "source": [
    "os.chdir(\"../\")"
   ]
  },
  {
   "cell_type": "code",
   "execution_count": 23,
   "id": "6b4c8f47",
   "metadata": {},
   "outputs": [
    {
     "data": {
      "text/plain": [
       "['20230222.ipynb',\n",
       " '.DS_Store',\n",
       " 'test',\n",
       " 'dataset3.csv',\n",
       " 'untitled.ipynb',\n",
       " 'dbconnect.py',\n",
       " '20230223.ipynb',\n",
       " 'naver.py',\n",
       " '__pycache__',\n",
       " 'test.py',\n",
       " 'tool_sele.py',\n",
       " 'README.md',\n",
       " '20230214.ipynb',\n",
       " 'selenium_20230216.ipynb',\n",
       " 'pic.txt',\n",
       " 'data_push.ipynb',\n",
       " 'exercise',\n",
       " 'encore.txt',\n",
       " 'requests_20230213.ipynb',\n",
       " '몬티홀_20220730.ipynb',\n",
       " '.ipynb_checkpoints',\n",
       " '20230215.ipynb',\n",
       " 'kbo_player.pkl']"
      ]
     },
     "execution_count": 23,
     "metadata": {},
     "output_type": "execute_result"
    }
   ],
   "source": [
    "os.listdir()"
   ]
  },
  {
   "cell_type": "markdown",
   "id": "55e03d0b",
   "metadata": {},
   "source": [
    "# File에서 남녀의 금액 평균 구하기\n",
    "\n",
    "- File은 exercise 폴더 안에 있다.\n",
    "- male 폴더안에 1,3 파일 옮기기\n",
    "- female 폴더안에 2,4 파일 옮기기\n",
    "- 파일을 읽어서 male 리스트, female에 append 하기\n",
    "- 평균 구하기"
   ]
  },
  {
   "cell_type": "code",
   "execution_count": 59,
   "id": "13be7041",
   "metadata": {},
   "outputs": [
    {
     "name": "stdout",
     "output_type": "stream",
     "text": [
      "male average: 11900177.712397356 \n",
      " female average12802368.483323347\n"
     ]
    }
   ],
   "source": [
    "import os\n",
    "import shutil\n",
    "\n",
    "if not os.path.isdir(\"./male\"):\n",
    "    os.mkdir('male')\n",
    "if not os.path.isdir(\"./female\"):\n",
    "    os.mkdir('female')\n",
    "\n",
    "male = []\n",
    "female = []\n",
    "\n",
    "for file in os.listdir(\"./exercise/\"):\n",
    "        if file == '.DS_Store':\n",
    "            continue\n",
    "        if int(file.split(\"_\")[-1][0])%2:\n",
    "            shutil.move(f\"./exercise/{file}\",\"./male/\")\n",
    "        else:\n",
    "            shutil.move(f\"./exercise/{file}\",\"./female/\")\n",
    "\n",
    "for file in os.listdir(\"./male/\"):\n",
    "    f = open(f\"./male/{file}\",\"r\",encoding='utf-8')\n",
    "    male.append(int(f.read().replace(\",\",\"\")))\n",
    "    f.close()\n",
    "\n",
    "for file in os.listdir(\"./female/\"):\n",
    "    f = open(f\"./female/{file}\",\"r\",encoding='utf-8')\n",
    "    female.append(int(f.read().replace(\",\",\"\")))\n",
    "    f.close()\n",
    "print(\"male average: {0} \\n female average{1}\".format(sum(male)/len(male), sum(female)/len(female)))"
   ]
  }
 ],
 "metadata": {
  "kernelspec": {
   "display_name": "base",
   "language": "python",
   "name": "python3"
  },
  "language_info": {
   "codemirror_mode": {
    "name": "ipython",
    "version": 3
   },
   "file_extension": ".py",
   "mimetype": "text/x-python",
   "name": "python",
   "nbconvert_exporter": "python",
   "pygments_lexer": "ipython3",
   "version": "3.9.12"
  },
  "vscode": {
   "interpreter": {
    "hash": "76aed67fffaa2ada1f21a296dd75d62c48e8b262e4f6e76d80a4eebf4a64ce2a"
   }
  }
 },
 "nbformat": 4,
 "nbformat_minor": 5
}
