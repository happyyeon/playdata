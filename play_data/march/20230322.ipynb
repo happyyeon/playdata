{
 "cells": [
  {
   "cell_type": "code",
   "execution_count": 1,
   "metadata": {},
   "outputs": [],
   "source": [
    "import datetime"
   ]
  },
  {
   "cell_type": "code",
   "execution_count": 2,
   "metadata": {},
   "outputs": [],
   "source": [
    "def print_hi():\n",
    "    print(\"hi\")"
   ]
  },
  {
   "cell_type": "code",
   "execution_count": 3,
   "metadata": {},
   "outputs": [
    {
     "name": "stdout",
     "output_type": "stream",
     "text": [
      "hi\n"
     ]
    }
   ],
   "source": [
    "print_hi()"
   ]
  },
  {
   "cell_type": "code",
   "execution_count": 4,
   "metadata": {},
   "outputs": [],
   "source": [
    "def print_hi():\n",
    "    print(\"Today : {}\".format(datetime.date.today()))\n",
    "    print(\"hi\")"
   ]
  },
  {
   "cell_type": "code",
   "execution_count": 5,
   "metadata": {},
   "outputs": [
    {
     "name": "stdout",
     "output_type": "stream",
     "text": [
      "Today : 2023-03-22\n",
      "hi\n"
     ]
    }
   ],
   "source": [
    "print_hi()"
   ]
  },
  {
   "cell_type": "code",
   "execution_count": 11,
   "metadata": {},
   "outputs": [],
   "source": [
    "def mydeco(func):\n",
    "    # total = 0\n",
    "    def new_func():\n",
    "        print(\"new func -> Today : {}\".format(datetime.date.today()))\n",
    "        func()\n",
    "    return new_func"
   ]
  },
  {
   "cell_type": "code",
   "execution_count": 12,
   "metadata": {},
   "outputs": [],
   "source": [
    "ph1 = mydeco(print_hi)"
   ]
  },
  {
   "cell_type": "code",
   "execution_count": 13,
   "metadata": {},
   "outputs": [
    {
     "name": "stdout",
     "output_type": "stream",
     "text": [
      "new func -> Today : 2023-03-22\n",
      "Today : 2023-03-22\n",
      "hi\n"
     ]
    }
   ],
   "source": [
    "ph1()"
   ]
  },
  {
   "cell_type": "code",
   "execution_count": 15,
   "metadata": {},
   "outputs": [],
   "source": [
    "ph2 = mydeco(lambda : print(\"엔코아\"))"
   ]
  },
  {
   "cell_type": "code",
   "execution_count": 16,
   "metadata": {},
   "outputs": [
    {
     "name": "stdout",
     "output_type": "stream",
     "text": [
      "new func -> Today : 2023-03-22\n",
      "엔코아\n"
     ]
    }
   ],
   "source": [
    "ph2()"
   ]
  },
  {
   "cell_type": "code",
   "execution_count": 17,
   "metadata": {},
   "outputs": [],
   "source": [
    "def mydeco2(func):\n",
    "    total = 0\n",
    "    def new_func():\n",
    "        nonlocal total\n",
    "        total += 1\n",
    "        print(f\"total {total}번 호출\")\n",
    "        func()\n",
    "    return new_func"
   ]
  },
  {
   "cell_type": "code",
   "execution_count": null,
   "metadata": {},
   "outputs": [],
   "source": []
  },
  {
   "cell_type": "code",
   "execution_count": 18,
   "metadata": {},
   "outputs": [],
   "source": [
    "def print_hi2():\n",
    "    print(\"Hello Encore\")"
   ]
  },
  {
   "cell_type": "code",
   "execution_count": 19,
   "metadata": {},
   "outputs": [],
   "source": [
    "func1 = mydeco2(print_hi2)\n",
    "func2 = mydeco2(print_hi2)"
   ]
  },
  {
   "cell_type": "code",
   "execution_count": 28,
   "metadata": {},
   "outputs": [
    {
     "name": "stdout",
     "output_type": "stream",
     "text": [
      "total 8번 호출\n",
      "Hello Encore\n"
     ]
    }
   ],
   "source": [
    "func1()"
   ]
  },
  {
   "cell_type": "code",
   "execution_count": 29,
   "metadata": {},
   "outputs": [
    {
     "name": "stdout",
     "output_type": "stream",
     "text": [
      "total 1번 호출\n",
      "Hello Encore\n"
     ]
    }
   ],
   "source": [
    "func2()"
   ]
  },
  {
   "cell_type": "code",
   "execution_count": 30,
   "metadata": {},
   "outputs": [],
   "source": [
    "def deco(func):\n",
    "    def new_func():\n",
    "        print(\"Encore\")\n",
    "        func()\n",
    "    return new_func"
   ]
  },
  {
   "cell_type": "code",
   "execution_count": 31,
   "metadata": {},
   "outputs": [],
   "source": []
  },
  {
   "cell_type": "code",
   "execution_count": 37,
   "metadata": {},
   "outputs": [
    {
     "name": "stdout",
     "output_type": "stream",
     "text": [
      "Hi Encore3\n"
     ]
    }
   ],
   "source": [
    "def print_hi3():\n",
    "    print(\"Hi Encore3\")\n",
    "print_hi3()"
   ]
  },
  {
   "cell_type": "code",
   "execution_count": 38,
   "metadata": {},
   "outputs": [
    {
     "name": "stdout",
     "output_type": "stream",
     "text": [
      "Encore\n",
      "Hi Encore3\n"
     ]
    }
   ],
   "source": [
    "@deco\n",
    "def print_hi3():\n",
    "    print(\"Hi Encore3\")\n",
    "print_hi3()"
   ]
  },
  {
   "cell_type": "code",
   "execution_count": 41,
   "metadata": {},
   "outputs": [],
   "source": [
    "# Make Fibonacci Sequence\n",
    "def find_fibo_seq(n):\n",
    "    if n < 2: return n\n",
    "    return find_fibo_seq(n-1)+find_fibo_seq(n-2)\n",
    "    "
   ]
  },
  {
   "cell_type": "code",
   "execution_count": 42,
   "metadata": {},
   "outputs": [
    {
     "data": {
      "text/plain": [
       "55"
      ]
     },
     "execution_count": 42,
     "metadata": {},
     "output_type": "execute_result"
    }
   ],
   "source": [
    "find_fibo_seq(10)"
   ]
  },
  {
   "cell_type": "code",
   "execution_count": 44,
   "metadata": {},
   "outputs": [],
   "source": [
    "def fib_generator():\n",
    "    a,b = 0,1\n",
    "    while True:\n",
    "        yield b\n",
    "        a,b = b, a+b"
   ]
  },
  {
   "cell_type": "code",
   "execution_count": 46,
   "metadata": {},
   "outputs": [],
   "source": [
    "fg = fib_generator()\n",
    "print(next(fg))"
   ]
  },
  {
   "cell_type": "code",
   "execution_count": 62,
   "metadata": {},
   "outputs": [],
   "source": [
    "def tmp(*a):\n",
    "    print(a)"
   ]
  },
  {
   "cell_type": "code",
   "execution_count": 64,
   "metadata": {},
   "outputs": [
    {
     "name": "stdout",
     "output_type": "stream",
     "text": [
      "(1,)\n"
     ]
    }
   ],
   "source": [
    "tmp(1)"
   ]
  },
  {
   "cell_type": "code",
   "execution_count": 65,
   "metadata": {},
   "outputs": [],
   "source": [
    "def tmp2(**a):\n",
    "    print(a)"
   ]
  },
  {
   "cell_type": "code",
   "execution_count": 71,
   "metadata": {},
   "outputs": [],
   "source": [
    "from functools import wraps\n",
    "\n",
    "def memo(func):\n",
    "    cache  = {}\n",
    "\n",
    "    @wraps(func)\n",
    "    def wrap(*args):\n",
    "        if args not in cache:\n",
    "            cache[args] = func(*args)\n",
    "        return cache[args]\n",
    "    return wrap"
   ]
  },
  {
   "cell_type": "code",
   "execution_count": 72,
   "metadata": {},
   "outputs": [],
   "source": [
    "def fib(n):\n",
    "    if n < 2: return 1\n",
    "    else:\n",
    "        return fib(n-1) + fib(n-2)\n",
    "    "
   ]
  },
  {
   "cell_type": "code",
   "execution_count": 74,
   "metadata": {},
   "outputs": [],
   "source": [
    "@memo\n",
    "def fib2(n):\n",
    "    if n < 2:\n",
    "        return 1\n",
    "    else:\n",
    "        return fib2(n-1) + fib2(n-2)"
   ]
  },
  {
   "cell_type": "code",
   "execution_count": 77,
   "metadata": {},
   "outputs": [
    {
     "name": "stdout",
     "output_type": "stream",
     "text": [
      "CPU times: user 5 µs, sys: 0 ns, total: 5 µs\n",
      "Wall time: 8.11 µs\n"
     ]
    },
    {
     "data": {
      "text/plain": [
       "14930352"
      ]
     },
     "execution_count": 77,
     "metadata": {},
     "output_type": "execute_result"
    }
   ],
   "source": [
    "%%time\n",
    "fib2(35)"
   ]
  },
  {
   "cell_type": "code",
   "execution_count": 78,
   "metadata": {},
   "outputs": [
    {
     "name": "stdout",
     "output_type": "stream",
     "text": [
      "CPU times: user 2.44 s, sys: 8.78 ms, total: 2.45 s\n",
      "Wall time: 2.45 s\n"
     ]
    },
    {
     "data": {
      "text/plain": [
       "14930352"
      ]
     },
     "execution_count": 78,
     "metadata": {},
     "output_type": "execute_result"
    }
   ],
   "source": [
    "%%time\n",
    "fib(35)"
   ]
  },
  {
   "cell_type": "code",
   "execution_count": 79,
   "metadata": {},
   "outputs": [],
   "source": [
    "import pymysql\n",
    "\n",
    "try:\n",
    "    con = pymysql.connect(host='127.0.0.1', user='root', password='1234',  \n",
    "                          port=4000, db='classicmodels', charset='utf8')\n",
    "    cur = con.cursor()\n",
    "except Exception as e:\n",
    "    print (e) "
   ]
  },
  {
   "cell_type": "code",
   "execution_count": 80,
   "metadata": {},
   "outputs": [
    {
     "data": {
      "text/plain": [
       "8"
      ]
     },
     "execution_count": 80,
     "metadata": {},
     "output_type": "execute_result"
    }
   ],
   "source": [
    "cur.execute(\"show tables\")"
   ]
  },
  {
   "cell_type": "code",
   "execution_count": 85,
   "metadata": {},
   "outputs": [],
   "source": [
    "sql = \"select * from {}\""
   ]
  },
  {
   "cell_type": "code",
   "execution_count": 86,
   "metadata": {},
   "outputs": [
    {
     "name": "stderr",
     "output_type": "stream",
     "text": [
      "/Users/happyeon/opt/anaconda3/lib/python3.9/site-packages/pandas/io/sql.py:761: UserWarning: pandas only support SQLAlchemy connectable(engine/connection) ordatabase string URI or sqlite3 DBAPI2 connectionother DBAPI2 objects are not tested, please consider using SQLAlchemy\n",
      "  warnings.warn(\n",
      "/Users/happyeon/opt/anaconda3/lib/python3.9/site-packages/pandas/io/sql.py:761: UserWarning: pandas only support SQLAlchemy connectable(engine/connection) ordatabase string URI or sqlite3 DBAPI2 connectionother DBAPI2 objects are not tested, please consider using SQLAlchemy\n",
      "  warnings.warn(\n",
      "/Users/happyeon/opt/anaconda3/lib/python3.9/site-packages/pandas/io/sql.py:761: UserWarning: pandas only support SQLAlchemy connectable(engine/connection) ordatabase string URI or sqlite3 DBAPI2 connectionother DBAPI2 objects are not tested, please consider using SQLAlchemy\n",
      "  warnings.warn(\n",
      "/Users/happyeon/opt/anaconda3/lib/python3.9/site-packages/pandas/io/sql.py:761: UserWarning: pandas only support SQLAlchemy connectable(engine/connection) ordatabase string URI or sqlite3 DBAPI2 connectionother DBAPI2 objects are not tested, please consider using SQLAlchemy\n",
      "  warnings.warn(\n",
      "/Users/happyeon/opt/anaconda3/lib/python3.9/site-packages/pandas/io/sql.py:761: UserWarning: pandas only support SQLAlchemy connectable(engine/connection) ordatabase string URI or sqlite3 DBAPI2 connectionother DBAPI2 objects are not tested, please consider using SQLAlchemy\n",
      "  warnings.warn(\n",
      "/Users/happyeon/opt/anaconda3/lib/python3.9/site-packages/pandas/io/sql.py:761: UserWarning: pandas only support SQLAlchemy connectable(engine/connection) ordatabase string URI or sqlite3 DBAPI2 connectionother DBAPI2 objects are not tested, please consider using SQLAlchemy\n",
      "  warnings.warn(\n",
      "/Users/happyeon/opt/anaconda3/lib/python3.9/site-packages/pandas/io/sql.py:761: UserWarning: pandas only support SQLAlchemy connectable(engine/connection) ordatabase string URI or sqlite3 DBAPI2 connectionother DBAPI2 objects are not tested, please consider using SQLAlchemy\n",
      "  warnings.warn(\n",
      "/Users/happyeon/opt/anaconda3/lib/python3.9/site-packages/pandas/io/sql.py:761: UserWarning: pandas only support SQLAlchemy connectable(engine/connection) ordatabase string URI or sqlite3 DBAPI2 connectionother DBAPI2 objects are not tested, please consider using SQLAlchemy\n",
      "  warnings.warn(\n"
     ]
    }
   ],
   "source": [
    "import pandas as pd\n",
    "cur.execute(\"show tables\")\n",
    "for q in cur.fetchall():\n",
    "    locals()[q[0]] = pd.read_sql_query(sql.format(q[0]),con=con)"
   ]
  },
  {
   "cell_type": "code",
   "execution_count": 89,
   "metadata": {},
   "outputs": [
    {
     "data": {
      "text/html": [
       "<div>\n",
       "<style scoped>\n",
       "    .dataframe tbody tr th:only-of-type {\n",
       "        vertical-align: middle;\n",
       "    }\n",
       "\n",
       "    .dataframe tbody tr th {\n",
       "        vertical-align: top;\n",
       "    }\n",
       "\n",
       "    .dataframe thead th {\n",
       "        text-align: right;\n",
       "    }\n",
       "</style>\n",
       "<table border=\"1\" class=\"dataframe\">\n",
       "  <thead>\n",
       "    <tr style=\"text-align: right;\">\n",
       "      <th></th>\n",
       "      <th>orderNumber</th>\n",
       "      <th>orderDate</th>\n",
       "      <th>requiredDate</th>\n",
       "      <th>shippedDate</th>\n",
       "      <th>status</th>\n",
       "      <th>comments</th>\n",
       "      <th>customerNumber</th>\n",
       "    </tr>\n",
       "  </thead>\n",
       "  <tbody>\n",
       "    <tr>\n",
       "      <th>0</th>\n",
       "      <td>10100</td>\n",
       "      <td>2003-01-06</td>\n",
       "      <td>2003-01-13</td>\n",
       "      <td>2003-01-10</td>\n",
       "      <td>Shipped</td>\n",
       "      <td>None</td>\n",
       "      <td>363</td>\n",
       "    </tr>\n",
       "    <tr>\n",
       "      <th>1</th>\n",
       "      <td>10101</td>\n",
       "      <td>2003-01-09</td>\n",
       "      <td>2003-01-18</td>\n",
       "      <td>2003-01-11</td>\n",
       "      <td>Shipped</td>\n",
       "      <td>Check on availability.</td>\n",
       "      <td>128</td>\n",
       "    </tr>\n",
       "    <tr>\n",
       "      <th>2</th>\n",
       "      <td>10102</td>\n",
       "      <td>2003-01-10</td>\n",
       "      <td>2003-01-18</td>\n",
       "      <td>2003-01-14</td>\n",
       "      <td>Shipped</td>\n",
       "      <td>None</td>\n",
       "      <td>181</td>\n",
       "    </tr>\n",
       "    <tr>\n",
       "      <th>3</th>\n",
       "      <td>10103</td>\n",
       "      <td>2003-01-29</td>\n",
       "      <td>2003-02-07</td>\n",
       "      <td>2003-02-02</td>\n",
       "      <td>Shipped</td>\n",
       "      <td>None</td>\n",
       "      <td>121</td>\n",
       "    </tr>\n",
       "    <tr>\n",
       "      <th>4</th>\n",
       "      <td>10104</td>\n",
       "      <td>2003-01-31</td>\n",
       "      <td>2003-02-09</td>\n",
       "      <td>2003-02-01</td>\n",
       "      <td>Shipped</td>\n",
       "      <td>None</td>\n",
       "      <td>141</td>\n",
       "    </tr>\n",
       "    <tr>\n",
       "      <th>...</th>\n",
       "      <td>...</td>\n",
       "      <td>...</td>\n",
       "      <td>...</td>\n",
       "      <td>...</td>\n",
       "      <td>...</td>\n",
       "      <td>...</td>\n",
       "      <td>...</td>\n",
       "    </tr>\n",
       "    <tr>\n",
       "      <th>321</th>\n",
       "      <td>10421</td>\n",
       "      <td>2005-05-29</td>\n",
       "      <td>2005-06-06</td>\n",
       "      <td>None</td>\n",
       "      <td>In Process</td>\n",
       "      <td>Custom shipping instructions were sent to ware...</td>\n",
       "      <td>124</td>\n",
       "    </tr>\n",
       "    <tr>\n",
       "      <th>322</th>\n",
       "      <td>10422</td>\n",
       "      <td>2005-05-30</td>\n",
       "      <td>2005-06-11</td>\n",
       "      <td>None</td>\n",
       "      <td>In Process</td>\n",
       "      <td>None</td>\n",
       "      <td>157</td>\n",
       "    </tr>\n",
       "    <tr>\n",
       "      <th>323</th>\n",
       "      <td>10423</td>\n",
       "      <td>2005-05-30</td>\n",
       "      <td>2005-06-05</td>\n",
       "      <td>None</td>\n",
       "      <td>In Process</td>\n",
       "      <td>None</td>\n",
       "      <td>314</td>\n",
       "    </tr>\n",
       "    <tr>\n",
       "      <th>324</th>\n",
       "      <td>10424</td>\n",
       "      <td>2005-05-31</td>\n",
       "      <td>2005-06-08</td>\n",
       "      <td>None</td>\n",
       "      <td>In Process</td>\n",
       "      <td>None</td>\n",
       "      <td>141</td>\n",
       "    </tr>\n",
       "    <tr>\n",
       "      <th>325</th>\n",
       "      <td>10425</td>\n",
       "      <td>2005-05-31</td>\n",
       "      <td>2005-06-07</td>\n",
       "      <td>None</td>\n",
       "      <td>In Process</td>\n",
       "      <td>None</td>\n",
       "      <td>119</td>\n",
       "    </tr>\n",
       "  </tbody>\n",
       "</table>\n",
       "<p>326 rows × 7 columns</p>\n",
       "</div>"
      ],
      "text/plain": [
       "     orderNumber   orderDate requiredDate shippedDate      status  \\\n",
       "0          10100  2003-01-06   2003-01-13  2003-01-10     Shipped   \n",
       "1          10101  2003-01-09   2003-01-18  2003-01-11     Shipped   \n",
       "2          10102  2003-01-10   2003-01-18  2003-01-14     Shipped   \n",
       "3          10103  2003-01-29   2003-02-07  2003-02-02     Shipped   \n",
       "4          10104  2003-01-31   2003-02-09  2003-02-01     Shipped   \n",
       "..           ...         ...          ...         ...         ...   \n",
       "321        10421  2005-05-29   2005-06-06        None  In Process   \n",
       "322        10422  2005-05-30   2005-06-11        None  In Process   \n",
       "323        10423  2005-05-30   2005-06-05        None  In Process   \n",
       "324        10424  2005-05-31   2005-06-08        None  In Process   \n",
       "325        10425  2005-05-31   2005-06-07        None  In Process   \n",
       "\n",
       "                                              comments  customerNumber  \n",
       "0                                                 None             363  \n",
       "1                               Check on availability.             128  \n",
       "2                                                 None             181  \n",
       "3                                                 None             121  \n",
       "4                                                 None             141  \n",
       "..                                                 ...             ...  \n",
       "321  Custom shipping instructions were sent to ware...             124  \n",
       "322                                               None             157  \n",
       "323                                               None             314  \n",
       "324                                               None             141  \n",
       "325                                               None             119  \n",
       "\n",
       "[326 rows x 7 columns]"
      ]
     },
     "execution_count": 89,
     "metadata": {},
     "output_type": "execute_result"
    }
   ],
   "source": [
    "orders"
   ]
  },
  {
   "cell_type": "code",
   "execution_count": 90,
   "metadata": {},
   "outputs": [],
   "source": [
    "text = \"print('hello world!')\""
   ]
  },
  {
   "cell_type": "code",
   "execution_count": 91,
   "metadata": {},
   "outputs": [
    {
     "name": "stdout",
     "output_type": "stream",
     "text": [
      "hello world!\n"
     ]
    }
   ],
   "source": [
    "exec(text)"
   ]
  },
  {
   "cell_type": "code",
   "execution_count": 93,
   "metadata": {},
   "outputs": [
    {
     "data": {
      "text/plain": [
       "0      103\n",
       "1      112\n",
       "2      114\n",
       "3      119\n",
       "4      121\n",
       "      ... \n",
       "117    486\n",
       "118    487\n",
       "119    489\n",
       "120    495\n",
       "121    496\n",
       "Name: customerNumber, Length: 122, dtype: int64"
      ]
     },
     "execution_count": 93,
     "metadata": {},
     "output_type": "execute_result"
    }
   ],
   "source": [
    "customers['customerNumber']"
   ]
  },
  {
   "cell_type": "code",
   "execution_count": 96,
   "metadata": {},
   "outputs": [
    {
     "data": {
      "text/plain": [
       "8853839.23"
      ]
     },
     "execution_count": 96,
     "metadata": {},
     "output_type": "execute_result"
    }
   ],
   "source": [
    "payments['amount'].sum()"
   ]
  },
  {
   "cell_type": "code",
   "execution_count": 99,
   "metadata": {},
   "outputs": [
    {
     "data": {
      "text/plain": [
       "273"
      ]
     },
     "execution_count": 99,
     "metadata": {},
     "output_type": "execute_result"
    }
   ],
   "source": [
    "len(payments['checkNumber'])"
   ]
  },
  {
   "cell_type": "code",
   "execution_count": 106,
   "metadata": {},
   "outputs": [
    {
     "data": {
      "text/html": [
       "<div>\n",
       "<style scoped>\n",
       "    .dataframe tbody tr th:only-of-type {\n",
       "        vertical-align: middle;\n",
       "    }\n",
       "\n",
       "    .dataframe tbody tr th {\n",
       "        vertical-align: top;\n",
       "    }\n",
       "\n",
       "    .dataframe thead th {\n",
       "        text-align: right;\n",
       "    }\n",
       "</style>\n",
       "<table border=\"1\" class=\"dataframe\">\n",
       "  <thead>\n",
       "    <tr style=\"text-align: right;\">\n",
       "      <th></th>\n",
       "      <th>productName</th>\n",
       "      <th>productLine</th>\n",
       "    </tr>\n",
       "  </thead>\n",
       "  <tbody>\n",
       "    <tr>\n",
       "      <th>0</th>\n",
       "      <td>1969 Harley Davidson Ultimate Chopper</td>\n",
       "      <td>Motorcycles</td>\n",
       "    </tr>\n",
       "    <tr>\n",
       "      <th>1</th>\n",
       "      <td>1952 Alpine Renault 1300</td>\n",
       "      <td>Classic Cars</td>\n",
       "    </tr>\n",
       "    <tr>\n",
       "      <th>2</th>\n",
       "      <td>1996 Moto Guzzi 1100i</td>\n",
       "      <td>Motorcycles</td>\n",
       "    </tr>\n",
       "    <tr>\n",
       "      <th>3</th>\n",
       "      <td>2003 Harley-Davidson Eagle Drag Bike</td>\n",
       "      <td>Motorcycles</td>\n",
       "    </tr>\n",
       "    <tr>\n",
       "      <th>4</th>\n",
       "      <td>1972 Alfa Romeo GTA</td>\n",
       "      <td>Classic Cars</td>\n",
       "    </tr>\n",
       "    <tr>\n",
       "      <th>...</th>\n",
       "      <td>...</td>\n",
       "      <td>...</td>\n",
       "    </tr>\n",
       "    <tr>\n",
       "      <th>105</th>\n",
       "      <td>The Titanic</td>\n",
       "      <td>Ships</td>\n",
       "    </tr>\n",
       "    <tr>\n",
       "      <th>106</th>\n",
       "      <td>The Queen Mary</td>\n",
       "      <td>Ships</td>\n",
       "    </tr>\n",
       "    <tr>\n",
       "      <th>107</th>\n",
       "      <td>American Airlines: MD-11S</td>\n",
       "      <td>Planes</td>\n",
       "    </tr>\n",
       "    <tr>\n",
       "      <th>108</th>\n",
       "      <td>Boeing X-32A JSF</td>\n",
       "      <td>Planes</td>\n",
       "    </tr>\n",
       "    <tr>\n",
       "      <th>109</th>\n",
       "      <td>Pont Yacht</td>\n",
       "      <td>Ships</td>\n",
       "    </tr>\n",
       "  </tbody>\n",
       "</table>\n",
       "<p>110 rows × 2 columns</p>\n",
       "</div>"
      ],
      "text/plain": [
       "                               productName   productLine\n",
       "0    1969 Harley Davidson Ultimate Chopper   Motorcycles\n",
       "1                 1952 Alpine Renault 1300  Classic Cars\n",
       "2                    1996 Moto Guzzi 1100i   Motorcycles\n",
       "3     2003 Harley-Davidson Eagle Drag Bike   Motorcycles\n",
       "4                      1972 Alfa Romeo GTA  Classic Cars\n",
       "..                                     ...           ...\n",
       "105                            The Titanic         Ships\n",
       "106                         The Queen Mary         Ships\n",
       "107              American Airlines: MD-11S        Planes\n",
       "108                       Boeing X-32A JSF        Planes\n",
       "109                             Pont Yacht         Ships\n",
       "\n",
       "[110 rows x 2 columns]"
      ]
     },
     "execution_count": 106,
     "metadata": {},
     "output_type": "execute_result"
    }
   ],
   "source": [
    "products[['productName','productLine']]"
   ]
  },
  {
   "cell_type": "code",
   "execution_count": 108,
   "metadata": {},
   "outputs": [
    {
     "data": {
      "text/html": [
       "<div>\n",
       "<style scoped>\n",
       "    .dataframe tbody tr th:only-of-type {\n",
       "        vertical-align: middle;\n",
       "    }\n",
       "\n",
       "    .dataframe tbody tr th {\n",
       "        vertical-align: top;\n",
       "    }\n",
       "\n",
       "    .dataframe thead th {\n",
       "        text-align: right;\n",
       "    }\n",
       "</style>\n",
       "<table border=\"1\" class=\"dataframe\">\n",
       "  <thead>\n",
       "    <tr style=\"text-align: right;\">\n",
       "      <th></th>\n",
       "      <th>productCode</th>\n",
       "      <th>productName</th>\n",
       "      <th>productLine</th>\n",
       "      <th>productScale</th>\n",
       "      <th>productVendor</th>\n",
       "      <th>productDescription</th>\n",
       "      <th>quantityInStock</th>\n",
       "      <th>buyPrice</th>\n",
       "      <th>MSRP</th>\n",
       "    </tr>\n",
       "  </thead>\n",
       "  <tbody>\n",
       "    <tr>\n",
       "      <th>0</th>\n",
       "      <td>S10_1678</td>\n",
       "      <td>1969 Harley Davidson Ultimate Chopper</td>\n",
       "      <td>Motorcycles</td>\n",
       "      <td>1:10</td>\n",
       "      <td>Min Lin Diecast</td>\n",
       "      <td>This replica features working kickstand, front...</td>\n",
       "      <td>7933</td>\n",
       "      <td>48.81</td>\n",
       "      <td>95.7</td>\n",
       "    </tr>\n",
       "  </tbody>\n",
       "</table>\n",
       "</div>"
      ],
      "text/plain": [
       "  productCode                            productName  productLine  \\\n",
       "0    S10_1678  1969 Harley Davidson Ultimate Chopper  Motorcycles   \n",
       "\n",
       "  productScale    productVendor  \\\n",
       "0         1:10  Min Lin Diecast   \n",
       "\n",
       "                                  productDescription  quantityInStock  \\\n",
       "0  This replica features working kickstand, front...             7933   \n",
       "\n",
       "   buyPrice  MSRP  \n",
       "0     48.81  95.7  "
      ]
     },
     "execution_count": 108,
     "metadata": {},
     "output_type": "execute_result"
    }
   ],
   "source": [
    "products.head(1)"
   ]
  },
  {
   "cell_type": "code",
   "execution_count": 109,
   "metadata": {},
   "outputs": [
    {
     "data": {
      "text/plain": [
       "110"
      ]
     },
     "execution_count": 109,
     "metadata": {},
     "output_type": "execute_result"
    }
   ],
   "source": [
    "products['productCode'].size"
   ]
  },
  {
   "cell_type": "code",
   "execution_count": 114,
   "metadata": {},
   "outputs": [],
   "source": [
    "products.rename(columns={'productCode': 'n_product'},inplace=True)"
   ]
  },
  {
   "cell_type": "code",
   "execution_count": 115,
   "metadata": {},
   "outputs": [
    {
     "data": {
      "text/html": [
       "<div>\n",
       "<style scoped>\n",
       "    .dataframe tbody tr th:only-of-type {\n",
       "        vertical-align: middle;\n",
       "    }\n",
       "\n",
       "    .dataframe tbody tr th {\n",
       "        vertical-align: top;\n",
       "    }\n",
       "\n",
       "    .dataframe thead th {\n",
       "        text-align: right;\n",
       "    }\n",
       "</style>\n",
       "<table border=\"1\" class=\"dataframe\">\n",
       "  <thead>\n",
       "    <tr style=\"text-align: right;\">\n",
       "      <th></th>\n",
       "      <th>n_product</th>\n",
       "      <th>productName</th>\n",
       "      <th>productLine</th>\n",
       "      <th>productScale</th>\n",
       "      <th>productVendor</th>\n",
       "      <th>productDescription</th>\n",
       "      <th>quantityInStock</th>\n",
       "      <th>buyPrice</th>\n",
       "      <th>MSRP</th>\n",
       "    </tr>\n",
       "  </thead>\n",
       "  <tbody>\n",
       "    <tr>\n",
       "      <th>0</th>\n",
       "      <td>S10_1678</td>\n",
       "      <td>1969 Harley Davidson Ultimate Chopper</td>\n",
       "      <td>Motorcycles</td>\n",
       "      <td>1:10</td>\n",
       "      <td>Min Lin Diecast</td>\n",
       "      <td>This replica features working kickstand, front...</td>\n",
       "      <td>7933</td>\n",
       "      <td>48.81</td>\n",
       "      <td>95.70</td>\n",
       "    </tr>\n",
       "    <tr>\n",
       "      <th>1</th>\n",
       "      <td>S10_1949</td>\n",
       "      <td>1952 Alpine Renault 1300</td>\n",
       "      <td>Classic Cars</td>\n",
       "      <td>1:10</td>\n",
       "      <td>Classic Metal Creations</td>\n",
       "      <td>Turnable front wheels; steering function; deta...</td>\n",
       "      <td>7305</td>\n",
       "      <td>98.58</td>\n",
       "      <td>214.30</td>\n",
       "    </tr>\n",
       "    <tr>\n",
       "      <th>2</th>\n",
       "      <td>S10_2016</td>\n",
       "      <td>1996 Moto Guzzi 1100i</td>\n",
       "      <td>Motorcycles</td>\n",
       "      <td>1:10</td>\n",
       "      <td>Highway 66 Mini Classics</td>\n",
       "      <td>Official Moto Guzzi logos and insignias, saddl...</td>\n",
       "      <td>6625</td>\n",
       "      <td>68.99</td>\n",
       "      <td>118.94</td>\n",
       "    </tr>\n",
       "    <tr>\n",
       "      <th>3</th>\n",
       "      <td>S10_4698</td>\n",
       "      <td>2003 Harley-Davidson Eagle Drag Bike</td>\n",
       "      <td>Motorcycles</td>\n",
       "      <td>1:10</td>\n",
       "      <td>Red Start Diecast</td>\n",
       "      <td>Model features, official Harley Davidson logos...</td>\n",
       "      <td>5582</td>\n",
       "      <td>91.02</td>\n",
       "      <td>193.66</td>\n",
       "    </tr>\n",
       "    <tr>\n",
       "      <th>4</th>\n",
       "      <td>S10_4757</td>\n",
       "      <td>1972 Alfa Romeo GTA</td>\n",
       "      <td>Classic Cars</td>\n",
       "      <td>1:10</td>\n",
       "      <td>Motor City Art Classics</td>\n",
       "      <td>Features include: Turnable front wheels; steer...</td>\n",
       "      <td>3252</td>\n",
       "      <td>85.68</td>\n",
       "      <td>136.00</td>\n",
       "    </tr>\n",
       "    <tr>\n",
       "      <th>...</th>\n",
       "      <td>...</td>\n",
       "      <td>...</td>\n",
       "      <td>...</td>\n",
       "      <td>...</td>\n",
       "      <td>...</td>\n",
       "      <td>...</td>\n",
       "      <td>...</td>\n",
       "      <td>...</td>\n",
       "      <td>...</td>\n",
       "    </tr>\n",
       "    <tr>\n",
       "      <th>105</th>\n",
       "      <td>S700_3505</td>\n",
       "      <td>The Titanic</td>\n",
       "      <td>Ships</td>\n",
       "      <td>1:700</td>\n",
       "      <td>Carousel DieCast Legends</td>\n",
       "      <td>Completed model measures 19 1/2 inches long, 9...</td>\n",
       "      <td>1956</td>\n",
       "      <td>51.09</td>\n",
       "      <td>100.17</td>\n",
       "    </tr>\n",
       "    <tr>\n",
       "      <th>106</th>\n",
       "      <td>S700_3962</td>\n",
       "      <td>The Queen Mary</td>\n",
       "      <td>Ships</td>\n",
       "      <td>1:700</td>\n",
       "      <td>Welly Diecast Productions</td>\n",
       "      <td>Exact replica. Wood and Metal. Many extras inc...</td>\n",
       "      <td>5088</td>\n",
       "      <td>53.63</td>\n",
       "      <td>99.31</td>\n",
       "    </tr>\n",
       "    <tr>\n",
       "      <th>107</th>\n",
       "      <td>S700_4002</td>\n",
       "      <td>American Airlines: MD-11S</td>\n",
       "      <td>Planes</td>\n",
       "      <td>1:700</td>\n",
       "      <td>Second Gear Diecast</td>\n",
       "      <td>Polished finish. Exact replia with official lo...</td>\n",
       "      <td>8820</td>\n",
       "      <td>36.27</td>\n",
       "      <td>74.03</td>\n",
       "    </tr>\n",
       "    <tr>\n",
       "      <th>108</th>\n",
       "      <td>S72_1253</td>\n",
       "      <td>Boeing X-32A JSF</td>\n",
       "      <td>Planes</td>\n",
       "      <td>1:72</td>\n",
       "      <td>Motor City Art Classics</td>\n",
       "      <td>10\" Wingspan with retractable landing gears.Co...</td>\n",
       "      <td>4857</td>\n",
       "      <td>32.77</td>\n",
       "      <td>49.66</td>\n",
       "    </tr>\n",
       "    <tr>\n",
       "      <th>109</th>\n",
       "      <td>S72_3212</td>\n",
       "      <td>Pont Yacht</td>\n",
       "      <td>Ships</td>\n",
       "      <td>1:72</td>\n",
       "      <td>Unimax Art Galleries</td>\n",
       "      <td>Measures 38 inches Long x 33 3/4 inches High. ...</td>\n",
       "      <td>414</td>\n",
       "      <td>33.30</td>\n",
       "      <td>54.60</td>\n",
       "    </tr>\n",
       "  </tbody>\n",
       "</table>\n",
       "<p>110 rows × 9 columns</p>\n",
       "</div>"
      ],
      "text/plain": [
       "     n_product                            productName   productLine  \\\n",
       "0     S10_1678  1969 Harley Davidson Ultimate Chopper   Motorcycles   \n",
       "1     S10_1949               1952 Alpine Renault 1300  Classic Cars   \n",
       "2     S10_2016                  1996 Moto Guzzi 1100i   Motorcycles   \n",
       "3     S10_4698   2003 Harley-Davidson Eagle Drag Bike   Motorcycles   \n",
       "4     S10_4757                    1972 Alfa Romeo GTA  Classic Cars   \n",
       "..         ...                                    ...           ...   \n",
       "105  S700_3505                            The Titanic         Ships   \n",
       "106  S700_3962                         The Queen Mary         Ships   \n",
       "107  S700_4002              American Airlines: MD-11S        Planes   \n",
       "108   S72_1253                       Boeing X-32A JSF        Planes   \n",
       "109   S72_3212                             Pont Yacht         Ships   \n",
       "\n",
       "    productScale              productVendor  \\\n",
       "0           1:10            Min Lin Diecast   \n",
       "1           1:10    Classic Metal Creations   \n",
       "2           1:10   Highway 66 Mini Classics   \n",
       "3           1:10          Red Start Diecast   \n",
       "4           1:10    Motor City Art Classics   \n",
       "..           ...                        ...   \n",
       "105        1:700   Carousel DieCast Legends   \n",
       "106        1:700  Welly Diecast Productions   \n",
       "107        1:700        Second Gear Diecast   \n",
       "108         1:72    Motor City Art Classics   \n",
       "109         1:72       Unimax Art Galleries   \n",
       "\n",
       "                                    productDescription  quantityInStock  \\\n",
       "0    This replica features working kickstand, front...             7933   \n",
       "1    Turnable front wheels; steering function; deta...             7305   \n",
       "2    Official Moto Guzzi logos and insignias, saddl...             6625   \n",
       "3    Model features, official Harley Davidson logos...             5582   \n",
       "4    Features include: Turnable front wheels; steer...             3252   \n",
       "..                                                 ...              ...   \n",
       "105  Completed model measures 19 1/2 inches long, 9...             1956   \n",
       "106  Exact replica. Wood and Metal. Many extras inc...             5088   \n",
       "107  Polished finish. Exact replia with official lo...             8820   \n",
       "108  10\" Wingspan with retractable landing gears.Co...             4857   \n",
       "109  Measures 38 inches Long x 33 3/4 inches High. ...              414   \n",
       "\n",
       "     buyPrice    MSRP  \n",
       "0       48.81   95.70  \n",
       "1       98.58  214.30  \n",
       "2       68.99  118.94  \n",
       "3       91.02  193.66  \n",
       "4       85.68  136.00  \n",
       "..        ...     ...  \n",
       "105     51.09  100.17  \n",
       "106     53.63   99.31  \n",
       "107     36.27   74.03  \n",
       "108     32.77   49.66  \n",
       "109     33.30   54.60  \n",
       "\n",
       "[110 rows x 9 columns]"
      ]
     },
     "execution_count": 115,
     "metadata": {},
     "output_type": "execute_result"
    }
   ],
   "source": [
    "products"
   ]
  },
  {
   "cell_type": "code",
   "execution_count": 125,
   "metadata": {},
   "outputs": [
    {
     "data": {
      "text/plain": [
       "pandas.core.series.Series"
      ]
     },
     "execution_count": 125,
     "metadata": {},
     "output_type": "execute_result"
    }
   ],
   "source": [
    "type(orderdetails['priceEach'])"
   ]
  },
  {
   "cell_type": "code",
   "execution_count": 133,
   "metadata": {},
   "outputs": [
    {
     "ename": "ValueError",
     "evalue": "The truth value of a Series is ambiguous. Use a.empty, a.bool(), a.item(), a.any() or a.all().",
     "output_type": "error",
     "traceback": [
      "\u001b[0;31m---------------------------------------------------------------------------\u001b[0m",
      "\u001b[0;31mValueError\u001b[0m                                Traceback (most recent call last)",
      "\u001b[1;32m/Users/happyeon/Desktop/data_science/play_data/march/20230322.ipynb Cell 49\u001b[0m in \u001b[0;36m<cell line: 2>\u001b[0;34m()\u001b[0m\n\u001b[1;32m      <a href='vscode-notebook-cell:/Users/happyeon/Desktop/data_science/play_data/march/20230322.ipynb#Y115sZmlsZQ%3D%3D?line=0'>1</a>\u001b[0m temp \u001b[39m=\u001b[39m pd\u001b[39m.\u001b[39mSeries([\u001b[39m0\u001b[39m,\u001b[39m1\u001b[39m,\u001b[39m2\u001b[39m,\u001b[39m3\u001b[39m,\u001b[39m4\u001b[39m])\n\u001b[0;32m----> <a href='vscode-notebook-cell:/Users/happyeon/Desktop/data_science/play_data/march/20230322.ipynb#Y115sZmlsZQ%3D%3D?line=1'>2</a>\u001b[0m temp \u001b[39m>\u001b[39m \u001b[39m0\u001b[39m \u001b[39m&\u001b[39m temp \u001b[39m<\u001b[39m \u001b[39m5\u001b[39m\n",
      "File \u001b[0;32m~/opt/anaconda3/lib/python3.9/site-packages/pandas/core/generic.py:1527\u001b[0m, in \u001b[0;36mNDFrame.__nonzero__\u001b[0;34m(self)\u001b[0m\n\u001b[1;32m   1525\u001b[0m \u001b[39m@final\u001b[39m\n\u001b[1;32m   1526\u001b[0m \u001b[39mdef\u001b[39;00m \u001b[39m__nonzero__\u001b[39m(\u001b[39mself\u001b[39m):\n\u001b[0;32m-> 1527\u001b[0m     \u001b[39mraise\u001b[39;00m \u001b[39mValueError\u001b[39;00m(\n\u001b[1;32m   1528\u001b[0m         \u001b[39mf\u001b[39m\u001b[39m\"\u001b[39m\u001b[39mThe truth value of a \u001b[39m\u001b[39m{\u001b[39;00m\u001b[39mtype\u001b[39m(\u001b[39mself\u001b[39m)\u001b[39m.\u001b[39m\u001b[39m__name__\u001b[39m\u001b[39m}\u001b[39;00m\u001b[39m is ambiguous. \u001b[39m\u001b[39m\"\u001b[39m\n\u001b[1;32m   1529\u001b[0m         \u001b[39m\"\u001b[39m\u001b[39mUse a.empty, a.bool(), a.item(), a.any() or a.all().\u001b[39m\u001b[39m\"\u001b[39m\n\u001b[1;32m   1530\u001b[0m     )\n",
      "\u001b[0;31mValueError\u001b[0m: The truth value of a Series is ambiguous. Use a.empty, a.bool(), a.item(), a.any() or a.all()."
     ]
    }
   ],
   "source": [
    "temp = pd.Series([0,1,2,3,4])\n",
    "temp > 0 & temp < 5"
   ]
  },
  {
   "cell_type": "code",
   "execution_count": 135,
   "metadata": {},
   "outputs": [
    {
     "data": {
      "text/html": [
       "<div>\n",
       "<style scoped>\n",
       "    .dataframe tbody tr th:only-of-type {\n",
       "        vertical-align: middle;\n",
       "    }\n",
       "\n",
       "    .dataframe tbody tr th {\n",
       "        vertical-align: top;\n",
       "    }\n",
       "\n",
       "    .dataframe thead th {\n",
       "        text-align: right;\n",
       "    }\n",
       "</style>\n",
       "<table border=\"1\" class=\"dataframe\">\n",
       "  <thead>\n",
       "    <tr style=\"text-align: right;\">\n",
       "      <th></th>\n",
       "      <th>orderNumber</th>\n",
       "      <th>productCode</th>\n",
       "      <th>quantityOrdered</th>\n",
       "      <th>priceEach</th>\n",
       "      <th>orderLineNumber</th>\n",
       "    </tr>\n",
       "  </thead>\n",
       "  <tbody>\n",
       "    <tr>\n",
       "      <th>3</th>\n",
       "      <td>10100</td>\n",
       "      <td>S24_3969</td>\n",
       "      <td>49</td>\n",
       "      <td>35.29</td>\n",
       "      <td>1</td>\n",
       "    </tr>\n",
       "    <tr>\n",
       "      <th>6</th>\n",
       "      <td>10101</td>\n",
       "      <td>S24_1937</td>\n",
       "      <td>45</td>\n",
       "      <td>32.53</td>\n",
       "      <td>3</td>\n",
       "    </tr>\n",
       "    <tr>\n",
       "      <th>7</th>\n",
       "      <td>10101</td>\n",
       "      <td>S24_2022</td>\n",
       "      <td>46</td>\n",
       "      <td>44.35</td>\n",
       "      <td>2</td>\n",
       "    </tr>\n",
       "    <tr>\n",
       "      <th>9</th>\n",
       "      <td>10102</td>\n",
       "      <td>S18_1367</td>\n",
       "      <td>41</td>\n",
       "      <td>43.13</td>\n",
       "      <td>1</td>\n",
       "    </tr>\n",
       "    <tr>\n",
       "      <th>20</th>\n",
       "      <td>10103</td>\n",
       "      <td>S18_4668</td>\n",
       "      <td>41</td>\n",
       "      <td>40.75</td>\n",
       "      <td>9</td>\n",
       "    </tr>\n",
       "    <tr>\n",
       "      <th>...</th>\n",
       "      <td>...</td>\n",
       "      <td>...</td>\n",
       "      <td>...</td>\n",
       "      <td>...</td>\n",
       "      <td>...</td>\n",
       "    </tr>\n",
       "    <tr>\n",
       "      <th>2969</th>\n",
       "      <td>10421</td>\n",
       "      <td>S24_2022</td>\n",
       "      <td>40</td>\n",
       "      <td>44.80</td>\n",
       "      <td>2</td>\n",
       "    </tr>\n",
       "    <tr>\n",
       "      <th>2971</th>\n",
       "      <td>10422</td>\n",
       "      <td>S18_1367</td>\n",
       "      <td>25</td>\n",
       "      <td>47.44</td>\n",
       "      <td>1</td>\n",
       "    </tr>\n",
       "    <tr>\n",
       "      <th>2980</th>\n",
       "      <td>10424</td>\n",
       "      <td>S18_4668</td>\n",
       "      <td>26</td>\n",
       "      <td>40.25</td>\n",
       "      <td>4</td>\n",
       "    </tr>\n",
       "    <tr>\n",
       "      <th>2987</th>\n",
       "      <td>10425</td>\n",
       "      <td>S18_2432</td>\n",
       "      <td>19</td>\n",
       "      <td>48.62</td>\n",
       "      <td>10</td>\n",
       "    </tr>\n",
       "    <tr>\n",
       "      <th>2992</th>\n",
       "      <td>10425</td>\n",
       "      <td>S24_2840</td>\n",
       "      <td>31</td>\n",
       "      <td>31.82</td>\n",
       "      <td>5</td>\n",
       "    </tr>\n",
       "  </tbody>\n",
       "</table>\n",
       "<p>339 rows × 5 columns</p>\n",
       "</div>"
      ],
      "text/plain": [
       "      orderNumber productCode  quantityOrdered  priceEach  orderLineNumber\n",
       "3           10100    S24_3969               49      35.29                1\n",
       "6           10101    S24_1937               45      32.53                3\n",
       "7           10101    S24_2022               46      44.35                2\n",
       "9           10102    S18_1367               41      43.13                1\n",
       "20          10103    S18_4668               41      40.75                9\n",
       "...           ...         ...              ...        ...              ...\n",
       "2969        10421    S24_2022               40      44.80                2\n",
       "2971        10422    S18_1367               25      47.44                1\n",
       "2980        10424    S18_4668               26      40.25                4\n",
       "2987        10425    S18_2432               19      48.62               10\n",
       "2992        10425    S24_2840               31      31.82                5\n",
       "\n",
       "[339 rows x 5 columns]"
      ]
     },
     "execution_count": 135,
     "metadata": {},
     "output_type": "execute_result"
    }
   ],
   "source": [
    "orderdetails[(30<=orderdetails['priceEach']) &  (50>=orderdetails['priceEach'])]"
   ]
  },
  {
   "cell_type": "code",
   "execution_count": 138,
   "metadata": {},
   "outputs": [
    {
     "data": {
      "text/html": [
       "<div>\n",
       "<style scoped>\n",
       "    .dataframe tbody tr th:only-of-type {\n",
       "        vertical-align: middle;\n",
       "    }\n",
       "\n",
       "    .dataframe tbody tr th {\n",
       "        vertical-align: top;\n",
       "    }\n",
       "\n",
       "    .dataframe thead th {\n",
       "        text-align: right;\n",
       "    }\n",
       "</style>\n",
       "<table border=\"1\" class=\"dataframe\">\n",
       "  <thead>\n",
       "    <tr style=\"text-align: right;\">\n",
       "      <th></th>\n",
       "      <th>employeeNumber</th>\n",
       "      <th>lastName</th>\n",
       "      <th>firstName</th>\n",
       "      <th>extension</th>\n",
       "      <th>email</th>\n",
       "      <th>officeCode</th>\n",
       "      <th>reportsTo</th>\n",
       "      <th>jobTitle</th>\n",
       "    </tr>\n",
       "  </thead>\n",
       "  <tbody>\n",
       "    <tr>\n",
       "      <th>0</th>\n",
       "      <td>1002</td>\n",
       "      <td>Murphy</td>\n",
       "      <td>Diane</td>\n",
       "      <td>x5800</td>\n",
       "      <td>dmurphy@classicmodelcars.com</td>\n",
       "      <td>1</td>\n",
       "      <td>NaN</td>\n",
       "      <td>President</td>\n",
       "    </tr>\n",
       "    <tr>\n",
       "      <th>1</th>\n",
       "      <td>1056</td>\n",
       "      <td>Patterson</td>\n",
       "      <td>Mary</td>\n",
       "      <td>x4611</td>\n",
       "      <td>mpatterso@classicmodelcars.com</td>\n",
       "      <td>1</td>\n",
       "      <td>1002.0</td>\n",
       "      <td>VP Sales</td>\n",
       "    </tr>\n",
       "    <tr>\n",
       "      <th>2</th>\n",
       "      <td>1076</td>\n",
       "      <td>Firrelli</td>\n",
       "      <td>Jeff</td>\n",
       "      <td>x9273</td>\n",
       "      <td>jfirrelli@classicmodelcars.com</td>\n",
       "      <td>1</td>\n",
       "      <td>1002.0</td>\n",
       "      <td>VP Marketing</td>\n",
       "    </tr>\n",
       "    <tr>\n",
       "      <th>3</th>\n",
       "      <td>1088</td>\n",
       "      <td>Patterson</td>\n",
       "      <td>William</td>\n",
       "      <td>x4871</td>\n",
       "      <td>wpatterson@classicmodelcars.com</td>\n",
       "      <td>6</td>\n",
       "      <td>1056.0</td>\n",
       "      <td>Sales Manager (APAC)</td>\n",
       "    </tr>\n",
       "    <tr>\n",
       "      <th>4</th>\n",
       "      <td>1102</td>\n",
       "      <td>Bondur</td>\n",
       "      <td>Gerard</td>\n",
       "      <td>x5408</td>\n",
       "      <td>gbondur@classicmodelcars.com</td>\n",
       "      <td>4</td>\n",
       "      <td>1056.0</td>\n",
       "      <td>Sale Manager (EMEA)</td>\n",
       "    </tr>\n",
       "    <tr>\n",
       "      <th>5</th>\n",
       "      <td>1143</td>\n",
       "      <td>Bow</td>\n",
       "      <td>Anthony</td>\n",
       "      <td>x5428</td>\n",
       "      <td>abow@classicmodelcars.com</td>\n",
       "      <td>1</td>\n",
       "      <td>1056.0</td>\n",
       "      <td>Sales Manager (NA)</td>\n",
       "    </tr>\n",
       "    <tr>\n",
       "      <th>6</th>\n",
       "      <td>1165</td>\n",
       "      <td>Jennings</td>\n",
       "      <td>Leslie</td>\n",
       "      <td>x3291</td>\n",
       "      <td>ljennings@classicmodelcars.com</td>\n",
       "      <td>1</td>\n",
       "      <td>1143.0</td>\n",
       "      <td>Sales Rep</td>\n",
       "    </tr>\n",
       "    <tr>\n",
       "      <th>7</th>\n",
       "      <td>1166</td>\n",
       "      <td>Thompson</td>\n",
       "      <td>Leslie</td>\n",
       "      <td>x4065</td>\n",
       "      <td>lthompson@classicmodelcars.com</td>\n",
       "      <td>1</td>\n",
       "      <td>1143.0</td>\n",
       "      <td>Sales Rep</td>\n",
       "    </tr>\n",
       "    <tr>\n",
       "      <th>8</th>\n",
       "      <td>1188</td>\n",
       "      <td>Firrelli</td>\n",
       "      <td>Julie</td>\n",
       "      <td>x2173</td>\n",
       "      <td>jfirrelli@classicmodelcars.com</td>\n",
       "      <td>2</td>\n",
       "      <td>1143.0</td>\n",
       "      <td>Sales Rep</td>\n",
       "    </tr>\n",
       "    <tr>\n",
       "      <th>9</th>\n",
       "      <td>1216</td>\n",
       "      <td>Patterson</td>\n",
       "      <td>Steve</td>\n",
       "      <td>x4334</td>\n",
       "      <td>spatterson@classicmodelcars.com</td>\n",
       "      <td>2</td>\n",
       "      <td>1143.0</td>\n",
       "      <td>Sales Rep</td>\n",
       "    </tr>\n",
       "    <tr>\n",
       "      <th>10</th>\n",
       "      <td>1286</td>\n",
       "      <td>Tseng</td>\n",
       "      <td>Foon Yue</td>\n",
       "      <td>x2248</td>\n",
       "      <td>ftseng@classicmodelcars.com</td>\n",
       "      <td>3</td>\n",
       "      <td>1143.0</td>\n",
       "      <td>Sales Rep</td>\n",
       "    </tr>\n",
       "    <tr>\n",
       "      <th>11</th>\n",
       "      <td>1323</td>\n",
       "      <td>Vanauf</td>\n",
       "      <td>George</td>\n",
       "      <td>x4102</td>\n",
       "      <td>gvanauf@classicmodelcars.com</td>\n",
       "      <td>3</td>\n",
       "      <td>1143.0</td>\n",
       "      <td>Sales Rep</td>\n",
       "    </tr>\n",
       "    <tr>\n",
       "      <th>12</th>\n",
       "      <td>1337</td>\n",
       "      <td>Bondur</td>\n",
       "      <td>Loui</td>\n",
       "      <td>x6493</td>\n",
       "      <td>lbondur@classicmodelcars.com</td>\n",
       "      <td>4</td>\n",
       "      <td>1102.0</td>\n",
       "      <td>Sales Rep</td>\n",
       "    </tr>\n",
       "    <tr>\n",
       "      <th>13</th>\n",
       "      <td>1370</td>\n",
       "      <td>Hernandez</td>\n",
       "      <td>Gerard</td>\n",
       "      <td>x2028</td>\n",
       "      <td>ghernande@classicmodelcars.com</td>\n",
       "      <td>4</td>\n",
       "      <td>1102.0</td>\n",
       "      <td>Sales Rep</td>\n",
       "    </tr>\n",
       "    <tr>\n",
       "      <th>14</th>\n",
       "      <td>1401</td>\n",
       "      <td>Castillo</td>\n",
       "      <td>Pamela</td>\n",
       "      <td>x2759</td>\n",
       "      <td>pcastillo@classicmodelcars.com</td>\n",
       "      <td>4</td>\n",
       "      <td>1102.0</td>\n",
       "      <td>Sales Rep</td>\n",
       "    </tr>\n",
       "    <tr>\n",
       "      <th>15</th>\n",
       "      <td>1501</td>\n",
       "      <td>Bott</td>\n",
       "      <td>Larry</td>\n",
       "      <td>x2311</td>\n",
       "      <td>lbott@classicmodelcars.com</td>\n",
       "      <td>7</td>\n",
       "      <td>1102.0</td>\n",
       "      <td>Sales Rep</td>\n",
       "    </tr>\n",
       "    <tr>\n",
       "      <th>16</th>\n",
       "      <td>1504</td>\n",
       "      <td>Jones</td>\n",
       "      <td>Barry</td>\n",
       "      <td>x102</td>\n",
       "      <td>bjones@classicmodelcars.com</td>\n",
       "      <td>7</td>\n",
       "      <td>1102.0</td>\n",
       "      <td>Sales Rep</td>\n",
       "    </tr>\n",
       "    <tr>\n",
       "      <th>17</th>\n",
       "      <td>1611</td>\n",
       "      <td>Fixter</td>\n",
       "      <td>Andy</td>\n",
       "      <td>x101</td>\n",
       "      <td>afixter@classicmodelcars.com</td>\n",
       "      <td>6</td>\n",
       "      <td>1088.0</td>\n",
       "      <td>Sales Rep</td>\n",
       "    </tr>\n",
       "    <tr>\n",
       "      <th>18</th>\n",
       "      <td>1612</td>\n",
       "      <td>Marsh</td>\n",
       "      <td>Peter</td>\n",
       "      <td>x102</td>\n",
       "      <td>pmarsh@classicmodelcars.com</td>\n",
       "      <td>6</td>\n",
       "      <td>1088.0</td>\n",
       "      <td>Sales Rep</td>\n",
       "    </tr>\n",
       "    <tr>\n",
       "      <th>19</th>\n",
       "      <td>1619</td>\n",
       "      <td>King</td>\n",
       "      <td>Tom</td>\n",
       "      <td>x103</td>\n",
       "      <td>tking@classicmodelcars.com</td>\n",
       "      <td>6</td>\n",
       "      <td>1088.0</td>\n",
       "      <td>Sales Rep</td>\n",
       "    </tr>\n",
       "    <tr>\n",
       "      <th>20</th>\n",
       "      <td>1621</td>\n",
       "      <td>Nishi</td>\n",
       "      <td>Mami</td>\n",
       "      <td>x101</td>\n",
       "      <td>mnishi@classicmodelcars.com</td>\n",
       "      <td>5</td>\n",
       "      <td>1056.0</td>\n",
       "      <td>Sales Rep</td>\n",
       "    </tr>\n",
       "    <tr>\n",
       "      <th>21</th>\n",
       "      <td>1625</td>\n",
       "      <td>Kato</td>\n",
       "      <td>Yoshimi</td>\n",
       "      <td>x102</td>\n",
       "      <td>ykato@classicmodelcars.com</td>\n",
       "      <td>5</td>\n",
       "      <td>1621.0</td>\n",
       "      <td>Sales Rep</td>\n",
       "    </tr>\n",
       "    <tr>\n",
       "      <th>22</th>\n",
       "      <td>1702</td>\n",
       "      <td>Gerard</td>\n",
       "      <td>Martin</td>\n",
       "      <td>x2312</td>\n",
       "      <td>mgerard@classicmodelcars.com</td>\n",
       "      <td>4</td>\n",
       "      <td>1102.0</td>\n",
       "      <td>Sales Rep</td>\n",
       "    </tr>\n",
       "  </tbody>\n",
       "</table>\n",
       "</div>"
      ],
      "text/plain": [
       "    employeeNumber   lastName firstName extension  \\\n",
       "0             1002     Murphy     Diane     x5800   \n",
       "1             1056  Patterson      Mary     x4611   \n",
       "2             1076   Firrelli      Jeff     x9273   \n",
       "3             1088  Patterson   William     x4871   \n",
       "4             1102     Bondur    Gerard     x5408   \n",
       "5             1143        Bow   Anthony     x5428   \n",
       "6             1165   Jennings    Leslie     x3291   \n",
       "7             1166   Thompson    Leslie     x4065   \n",
       "8             1188   Firrelli     Julie     x2173   \n",
       "9             1216  Patterson     Steve     x4334   \n",
       "10            1286      Tseng  Foon Yue     x2248   \n",
       "11            1323     Vanauf    George     x4102   \n",
       "12            1337     Bondur      Loui     x6493   \n",
       "13            1370  Hernandez    Gerard     x2028   \n",
       "14            1401   Castillo    Pamela     x2759   \n",
       "15            1501       Bott     Larry     x2311   \n",
       "16            1504      Jones     Barry      x102   \n",
       "17            1611     Fixter      Andy      x101   \n",
       "18            1612      Marsh     Peter      x102   \n",
       "19            1619       King       Tom      x103   \n",
       "20            1621      Nishi      Mami      x101   \n",
       "21            1625       Kato   Yoshimi      x102   \n",
       "22            1702     Gerard    Martin     x2312   \n",
       "\n",
       "                              email officeCode  reportsTo  \\\n",
       "0      dmurphy@classicmodelcars.com          1        NaN   \n",
       "1    mpatterso@classicmodelcars.com          1     1002.0   \n",
       "2    jfirrelli@classicmodelcars.com          1     1002.0   \n",
       "3   wpatterson@classicmodelcars.com          6     1056.0   \n",
       "4      gbondur@classicmodelcars.com          4     1056.0   \n",
       "5         abow@classicmodelcars.com          1     1056.0   \n",
       "6    ljennings@classicmodelcars.com          1     1143.0   \n",
       "7    lthompson@classicmodelcars.com          1     1143.0   \n",
       "8    jfirrelli@classicmodelcars.com          2     1143.0   \n",
       "9   spatterson@classicmodelcars.com          2     1143.0   \n",
       "10      ftseng@classicmodelcars.com          3     1143.0   \n",
       "11     gvanauf@classicmodelcars.com          3     1143.0   \n",
       "12     lbondur@classicmodelcars.com          4     1102.0   \n",
       "13   ghernande@classicmodelcars.com          4     1102.0   \n",
       "14   pcastillo@classicmodelcars.com          4     1102.0   \n",
       "15       lbott@classicmodelcars.com          7     1102.0   \n",
       "16      bjones@classicmodelcars.com          7     1102.0   \n",
       "17     afixter@classicmodelcars.com          6     1088.0   \n",
       "18      pmarsh@classicmodelcars.com          6     1088.0   \n",
       "19       tking@classicmodelcars.com          6     1088.0   \n",
       "20      mnishi@classicmodelcars.com          5     1056.0   \n",
       "21       ykato@classicmodelcars.com          5     1621.0   \n",
       "22     mgerard@classicmodelcars.com          4     1102.0   \n",
       "\n",
       "                jobTitle  \n",
       "0              President  \n",
       "1               VP Sales  \n",
       "2           VP Marketing  \n",
       "3   Sales Manager (APAC)  \n",
       "4    Sale Manager (EMEA)  \n",
       "5     Sales Manager (NA)  \n",
       "6              Sales Rep  \n",
       "7              Sales Rep  \n",
       "8              Sales Rep  \n",
       "9              Sales Rep  \n",
       "10             Sales Rep  \n",
       "11             Sales Rep  \n",
       "12             Sales Rep  \n",
       "13             Sales Rep  \n",
       "14             Sales Rep  \n",
       "15             Sales Rep  \n",
       "16             Sales Rep  \n",
       "17             Sales Rep  \n",
       "18             Sales Rep  \n",
       "19             Sales Rep  \n",
       "20             Sales Rep  \n",
       "21             Sales Rep  \n",
       "22             Sales Rep  "
      ]
     },
     "execution_count": 138,
     "metadata": {},
     "output_type": "execute_result"
    }
   ],
   "source": [
    "employees"
   ]
  },
  {
   "cell_type": "code",
   "execution_count": 143,
   "metadata": {},
   "outputs": [
    {
     "data": {
      "text/plain": [
       "0    1002\n",
       "Name: employeeNumber, dtype: int64"
      ]
     },
     "execution_count": 143,
     "metadata": {},
     "output_type": "execute_result"
    }
   ],
   "source": [
    "employees[employees['reportsTo'].isnull()]['employeeNumber']"
   ]
  },
  {
   "cell_type": "code",
   "execution_count": 145,
   "metadata": {},
   "outputs": [
    {
     "data": {
      "text/plain": [
       "country    city          \n",
       "Australia  Chatswood         282\n",
       "           Glen Waverly      471\n",
       "           Melbourne         114\n",
       "           North Sydney      276\n",
       "           South Brisbane    333\n",
       "                            ... \n",
       "USA        San Diego         239\n",
       "           San Francisco     450\n",
       "           San Jose          450\n",
       "           San Rafael        124\n",
       "           White Plains      319\n",
       "Name: customerNumber, Length: 96, dtype: int64"
      ]
     },
     "execution_count": 145,
     "metadata": {},
     "output_type": "execute_result"
    }
   ],
   "source": [
    "customers.groupby(['country','city'])['customerNumber'].sum()"
   ]
  },
  {
   "cell_type": "code",
   "execution_count": 147,
   "metadata": {},
   "outputs": [
    {
     "data": {
      "text/html": [
       "<div>\n",
       "<style scoped>\n",
       "    .dataframe tbody tr th:only-of-type {\n",
       "        vertical-align: middle;\n",
       "    }\n",
       "\n",
       "    .dataframe tbody tr th {\n",
       "        vertical-align: top;\n",
       "    }\n",
       "\n",
       "    .dataframe thead th {\n",
       "        text-align: right;\n",
       "    }\n",
       "</style>\n",
       "<table border=\"1\" class=\"dataframe\">\n",
       "  <thead>\n",
       "    <tr style=\"text-align: right;\">\n",
       "      <th></th>\n",
       "      <th>customerNumber</th>\n",
       "      <th>customerName</th>\n",
       "      <th>contactLastName</th>\n",
       "      <th>contactFirstName</th>\n",
       "      <th>phone</th>\n",
       "      <th>addressLine1</th>\n",
       "      <th>addressLine2</th>\n",
       "      <th>city</th>\n",
       "      <th>state</th>\n",
       "      <th>postalCode</th>\n",
       "      <th>country</th>\n",
       "      <th>salesRepEmployeeNumber</th>\n",
       "      <th>creditLimit</th>\n",
       "    </tr>\n",
       "  </thead>\n",
       "  <tbody>\n",
       "    <tr>\n",
       "      <th>0</th>\n",
       "      <td>103</td>\n",
       "      <td>Atelier graphique</td>\n",
       "      <td>Schmitt</td>\n",
       "      <td>Carine</td>\n",
       "      <td>40.32.2555</td>\n",
       "      <td>54, rue Royale</td>\n",
       "      <td>None</td>\n",
       "      <td>Nantes</td>\n",
       "      <td>None</td>\n",
       "      <td>44000</td>\n",
       "      <td>France</td>\n",
       "      <td>1370.0</td>\n",
       "      <td>21000.0</td>\n",
       "    </tr>\n",
       "  </tbody>\n",
       "</table>\n",
       "</div>"
      ],
      "text/plain": [
       "   customerNumber       customerName contactLastName contactFirstName  \\\n",
       "0             103  Atelier graphique         Schmitt          Carine    \n",
       "\n",
       "        phone    addressLine1 addressLine2    city state postalCode country  \\\n",
       "0  40.32.2555  54, rue Royale         None  Nantes  None      44000  France   \n",
       "\n",
       "   salesRepEmployeeNumber  creditLimit  \n",
       "0                  1370.0      21000.0  "
      ]
     },
     "execution_count": 147,
     "metadata": {},
     "output_type": "execute_result"
    }
   ],
   "source": [
    "customers.head(1)"
   ]
  }
 ],
 "metadata": {
  "kernelspec": {
   "display_name": "base",
   "language": "python",
   "name": "python3"
  },
  "language_info": {
   "codemirror_mode": {
    "name": "ipython",
    "version": 3
   },
   "file_extension": ".py",
   "mimetype": "text/x-python",
   "name": "python",
   "nbconvert_exporter": "python",
   "pygments_lexer": "ipython3",
   "version": "3.9.12"
  },
  "orig_nbformat": 4
 },
 "nbformat": 4,
 "nbformat_minor": 2
}
