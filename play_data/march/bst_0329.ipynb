{
 "cells": [
  {
   "cell_type": "code",
   "execution_count": 1,
   "metadata": {},
   "outputs": [],
   "source": [
    "class Node:\n",
    "    \n",
    "    def __init__(self, data):\n",
    "        self.left = None\n",
    "        self.right = None \n",
    "        self.data = data\n",
    "    \n",
    "    def __repr__(self):\n",
    "        return str(self.data)"
   ]
  },
  {
   "cell_type": "code",
   "execution_count": 2,
   "metadata": {},
   "outputs": [],
   "source": [
    "root = Node(11)"
   ]
  },
  {
   "cell_type": "code",
   "execution_count": 3,
   "metadata": {},
   "outputs": [
    {
     "name": "stdout",
     "output_type": "stream",
     "text": [
      "11\n"
     ]
    }
   ],
   "source": [
    "print(root)"
   ]
  },
  {
   "cell_type": "code",
   "execution_count": 4,
   "metadata": {},
   "outputs": [],
   "source": [
    "class BinarySearchTree:\n",
    "\n",
    "    def __init__(self):\n",
    "        self.__root = None\n",
    "    \n",
    "    def insert(self,data,method='iterative'):\n",
    "        if method in 'recursion':\n",
    "            self.__root = self._insert_rec(self.__root, data)\n",
    "        else:\n",
    "            self._insert_iter(data)\n",
    "    \n",
    "    def _insert_rec(self,node,data):\n",
    "        if not node:\n",
    "            node = Node(data)\n",
    "        else:\n",
    "            if node.data > data:\n",
    "                node.left = self._insert_rec(node.left,data)\n",
    "            else:\n",
    "                node.right = self._insert_rec(node.right,data)\n",
    "\n",
    "    def _insert_iter(self,data):\n",
    "        if not self.__root:\n",
    "            self.__root = Node(data)\n",
    "            return\n",
    "        \n",
    "        new_node = Node(data)\n",
    "\n",
    "        curr = self.__root\n",
    "        parent = None\n",
    "\n",
    "        while(curr != None):\n",
    "            parent = curr\n",
    "            if curr.data > data:\n",
    "                curr = curr.left\n",
    "            else:\n",
    "                curr = curr.right\n",
    "        \n",
    "        if parent.data > data:\n",
    "            parent.left = new_node\n",
    "        else:\n",
    "            parent.right = new_node\n",
    "    \n",
    "    def __str__(self):\n",
    "        return \"test\""
   ]
  },
  {
   "cell_type": "code",
   "execution_count": 5,
   "metadata": {},
   "outputs": [],
   "source": [
    "bst = BinarySearchTree()"
   ]
  },
  {
   "cell_type": "code",
   "execution_count": 6,
   "metadata": {},
   "outputs": [],
   "source": [
    "bst.insert(20)"
   ]
  }
 ],
 "metadata": {
  "kernelspec": {
   "display_name": "base",
   "language": "python",
   "name": "python3"
  },
  "language_info": {
   "codemirror_mode": {
    "name": "ipython",
    "version": 3
   },
   "file_extension": ".py",
   "mimetype": "text/x-python",
   "name": "python",
   "nbconvert_exporter": "python",
   "pygments_lexer": "ipython3",
   "version": "3.9.12"
  },
  "orig_nbformat": 4
 },
 "nbformat": 4,
 "nbformat_minor": 2
}
