{
 "cells": [
  {
   "cell_type": "code",
   "execution_count": 18,
   "id": "00819bed",
   "metadata": {},
   "outputs": [
    {
     "name": "stdout",
     "output_type": "stream",
     "text": [
      "Requirement already satisfied: pymysql in /opt/homebrew/lib/python3.11/site-packages (1.0.2)\n"
     ]
    }
   ],
   "source": [
    "!pip3 install pymysql"
   ]
  },
  {
   "cell_type": "code",
   "execution_count": 8,
   "id": "75126425-e532-4828-9064-7ea15c6cc078",
   "metadata": {},
   "outputs": [],
   "source": [
    "import pymysql\n",
    "import tqdm"
   ]
  },
  {
   "cell_type": "code",
   "execution_count": 6,
   "id": "4e2ccdc9-9cbe-4ebf-894f-06dd65957dc4",
   "metadata": {},
   "outputs": [],
   "source": [
    "try:\n",
    "    con = pymysql.connect(host='127.0.0.1', \n",
    "                          user='happyeon', password='123', \n",
    "                          charset='utf8', db='play')\n",
    "    cur = con.cursor()\n",
    "except Exception as e:\n",
    "    print (\"error ->\", e)\n",
    "    "
   ]
  },
  {
   "cell_type": "code",
   "execution_count": 7,
   "id": "6e99c2ac-8cfa-4765-9162-6ac5d88d46a9",
   "metadata": {},
   "outputs": [
    {
     "data": {
      "text/plain": [
       "0"
      ]
     },
     "execution_count": 7,
     "metadata": {},
     "output_type": "execute_result"
    }
   ],
   "source": [
    "cur.execute(\"\"\"CREATE TABLE `class3` (\n",
    "\t`InvoiceNo` VARCHAR(30), \n",
    " `StockCode` VARCHAR(30),\n",
    " `Description` VARCHAR(255),\n",
    " `Quantity` INT(3),\n",
    " `UnitPrice` FLOAT(5,2),\n",
    " \t`CustomerID` VARCHAR(30),\n",
    " `Country` VARCHAR(45),\n",
    " `InvoiceDate` DATE \n",
    ")\"\"\")"
   ]
  },
  {
   "cell_type": "code",
   "execution_count": 17,
   "id": "ee0143fd-b800-40aa-bc77-2c1858e3a362",
   "metadata": {},
   "outputs": [],
   "source": [
    "sql = \"INSERT INTO class3 VALUES(%s, %s, %s,%s,%s,%s,%s,%s)\"\n",
    "with open(\"./dataset3.csv\", \"r\", encoding='utf-8') as f:\n",
    "    for idx, line in enumerate(f):\n",
    "        if idx != 0:\n",
    "            cur.execute(sql, [x.replace('\"', \"\") for x in line.split(\";\")])\n",
    "con.commit()"
   ]
  },
  {
   "cell_type": "code",
   "execution_count": 18,
   "id": "8ffc078c-55bd-4694-a80a-74f280214012",
   "metadata": {},
   "outputs": [
    {
     "data": {
      "text/plain": [
       "1"
      ]
     },
     "execution_count": 18,
     "metadata": {},
     "output_type": "execute_result"
    }
   ],
   "source": [
    "cur.execute(\"select count(*) from class3\")"
   ]
  },
  {
   "cell_type": "code",
   "execution_count": 19,
   "id": "3be8461a-71ae-427c-b994-55962424cde5",
   "metadata": {},
   "outputs": [
    {
     "data": {
      "text/plain": [
       "((39491,),)"
      ]
     },
     "execution_count": 19,
     "metadata": {},
     "output_type": "execute_result"
    }
   ],
   "source": [
    "cur.fetchall()"
   ]
  },
  {
   "cell_type": "code",
   "execution_count": null,
   "id": "ca2499da-9c6d-4ac0-a1ea-54fde8d57891",
   "metadata": {},
   "outputs": [],
   "source": []
  }
 ],
 "metadata": {
  "kernelspec": {
   "display_name": "base",
   "language": "python",
   "name": "python3"
  },
  "language_info": {
   "codemirror_mode": {
    "name": "ipython",
    "version": 3
   },
   "file_extension": ".py",
   "mimetype": "text/x-python",
   "name": "python",
   "nbconvert_exporter": "python",
   "pygments_lexer": "ipython3",
   "version": "3.9.12"
  },
  "vscode": {
   "interpreter": {
    "hash": "76aed67fffaa2ada1f21a296dd75d62c48e8b262e4f6e76d80a4eebf4a64ce2a"
   }
  }
 },
 "nbformat": 4,
 "nbformat_minor": 5
}
