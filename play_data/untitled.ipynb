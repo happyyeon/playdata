{
 "cells": [
  {
   "cell_type": "code",
   "execution_count": 45,
   "metadata": {},
   "outputs": [],
   "source": [
    "from naver import get_stock\n",
    "import numpy as np\n",
    "import pymysql\n",
    "from dbconnect import connection\n",
    "\n",
    "samsung = get_stock(\"005930\", 2)\n",
    "samsung.dtypes\n",
    "samsung[['종가', '전일비', '시가', '고가', '저가', '거래량']] = \\\n",
    "samsung[['종가', '전일비', '시가', '고가', '저가', '거래량']].astype(np.int64)\n",
    "samsung['거래금액'] = samsung['종가'] * samsung['거래량']\n"
   ]
  },
  {
   "cell_type": "code",
   "execution_count": 43,
   "metadata": {},
   "outputs": [
    {
     "data": {
      "text/plain": [
       "날짜      object\n",
       "종가       int64\n",
       "전일비      int64\n",
       "시가       int64\n",
       "고가       int64\n",
       "저가       int64\n",
       "거래량      int64\n",
       "거래금액     int64\n",
       "dtype: object"
      ]
     },
     "execution_count": 43,
     "metadata": {},
     "output_type": "execute_result"
    }
   ],
   "source": [
    "samsung.dtypes"
   ]
  },
  {
   "cell_type": "code",
   "execution_count": 46,
   "metadata": {},
   "outputs": [],
   "source": [
    "cur, con = connection()"
   ]
  },
  {
   "cell_type": "code",
   "execution_count": 20,
   "metadata": {},
   "outputs": [],
   "source": [
    "samsung['종목'] = '005930'\n",
    "samsung = samsung[['종목', '날짜', '종가', '전일비', '시가', '고가', '저가', '거래량', '거래금액', ]]\n"
   ]
  },
  {
   "cell_type": "code",
   "execution_count": 23,
   "metadata": {},
   "outputs": [
    {
     "data": {
      "text/plain": [
       "pandas.core.frame.DataFrame"
      ]
     },
     "execution_count": 23,
     "metadata": {},
     "output_type": "execute_result"
    }
   ],
   "source": [
    "type(samsung)"
   ]
  },
  {
   "cell_type": "code",
   "execution_count": 24,
   "metadata": {},
   "outputs": [
    {
     "name": "stdout",
     "output_type": "stream",
     "text": [
      "1 종목            005930\n",
      "날짜        2023.02.07\n",
      "종가             61900\n",
      "전일비              300\n",
      "시가             61900\n",
      "고가             62500\n",
      "저가             61600\n",
      "거래량         14491039\n",
      "거래금액    896995314100\n",
      "Name: 1, dtype: object\n",
      "2 종목            005930\n",
      "날짜        2023.02.06\n",
      "종가             61600\n",
      "전일비             2200\n",
      "시가             62800\n",
      "고가             63000\n",
      "저가             61600\n",
      "거래량         15529356\n",
      "거래금액    956608329600\n",
      "Name: 2, dtype: object\n",
      "3 종목            005930\n",
      "날짜        2023.02.03\n",
      "종가             63800\n",
      "전일비              300\n",
      "시가             63900\n",
      "고가             64000\n",
      "저가             63000\n",
      "거래량         15194598\n",
      "거래금액    969415352400\n",
      "Name: 3, dtype: object\n",
      "4 종목             005930\n",
      "날짜         2023.02.02\n",
      "종가              63500\n",
      "전일비              1700\n",
      "시가              63200\n",
      "고가              63900\n",
      "저가              62600\n",
      "거래량          23285983\n",
      "거래금액    1478659920500\n",
      "Name: 4, dtype: object\n",
      "5 종목             005930\n",
      "날짜         2023.02.01\n",
      "종가              61800\n",
      "전일비               800\n",
      "시가              62600\n",
      "고가              62700\n",
      "저가              61000\n",
      "거래량          18570133\n",
      "거래금액    1147634219400\n",
      "Name: 5, dtype: object\n",
      "9 종목             005930\n",
      "날짜         2023.01.31\n",
      "종가              61000\n",
      "전일비              2300\n",
      "시가              63500\n",
      "고가              63700\n",
      "저가              61000\n",
      "거래량          29746731\n",
      "거래금액    1814550591000\n",
      "Name: 9, dtype: object\n",
      "10 종목             005930\n",
      "날짜         2023.01.30\n",
      "종가              63300\n",
      "전일비              1300\n",
      "시가              64900\n",
      "고가              64900\n",
      "저가              63100\n",
      "거래량          20995234\n",
      "거래금액    1328998312200\n",
      "Name: 10, dtype: object\n",
      "11 종목             005930\n",
      "날짜         2023.01.27\n",
      "종가              64600\n",
      "전일비               700\n",
      "시가              64400\n",
      "고가              65000\n",
      "저가              63900\n",
      "거래량          18760182\n",
      "거래금액    1211907757200\n",
      "Name: 11, dtype: object\n",
      "12 종목            005930\n",
      "날짜        2023.01.26\n",
      "종가             63900\n",
      "전일비              500\n",
      "시가             63800\n",
      "고가             63900\n",
      "저가             63300\n",
      "거래량         13278277\n",
      "거래금액    848481900300\n",
      "Name: 12, dtype: object\n",
      "13 종목             005930\n",
      "날짜         2023.01.25\n",
      "종가              63400\n",
      "전일비              1600\n",
      "시가              63500\n",
      "고가              63700\n",
      "저가              63000\n",
      "거래량          16822710\n",
      "거래금액    1066559814000\n",
      "Name: 13, dtype: object\n"
     ]
    }
   ],
   "source": [
    "for idx,row in samsung.iterrows():\n",
    "    print(idx, row)"
   ]
  },
  {
   "cell_type": "code",
   "execution_count": 21,
   "metadata": {},
   "outputs": [],
   "source": [
    "sql = \"INSERT INTO stock_day VALUES (%s , %s , %s , %s , %s , %s , %s , %s , %s)\"\n",
    "\n",
    "for idx, row in samsung.iterrows():\n",
    "    try:\n",
    "        cur.execute(sql,list(row.values))\n",
    "    except:\n",
    "        pass\n",
    "    \n",
    "con.commit()\n"
   ]
  },
  {
   "cell_type": "code",
   "execution_count": 26,
   "metadata": {},
   "outputs": [
    {
     "data": {
      "text/plain": [
       "0"
      ]
     },
     "execution_count": 26,
     "metadata": {},
     "output_type": "execute_result"
    }
   ],
   "source": [
    "cur.execute(\"\"\"\n",
    "CREATE TABLE KRX(\n",
    "    ISU_CD VARCHAR(200),\n",
    "    ISU_SRT_CD VARCHAR(200),\n",
    "    ISU_NM VARCHAR(200),\n",
    "    ISU_ABBRV VARCHAR(200),\n",
    "    ISU_ENG_NM VARCHAR(200),\n",
    "    LIST_DD VARCHAR(200),\n",
    "    MKT_TP_NM VARCHAR(200),\n",
    "    SECUGRP_NM VARCHAR(200),\n",
    "    SECT_TP_NM VARCHAR(200),\n",
    "    KIND_STKCERT_TP_NM VARCHAR(200),\n",
    "    PARVAL VARCHAR(200),\n",
    "    LIST_SHRS VARCHAR(200),\n",
    "    PRIMARY KEY(ISU_SRT_CD)\n",
    "    );\n",
    "\n",
    "\"\"\")"
   ]
  },
  {
   "cell_type": "code",
   "execution_count": 28,
   "metadata": {},
   "outputs": [],
   "source": [
    "import requests\n",
    "krx_url = \"http://data.krx.co.kr/comm/bldAttendant/getJsonData.cmd\"\n",
    "payload = {\"bld\"  : \"dbms/MDC/STAT/standard/MDCSTAT01901\",\n",
    "            \"locale\"  : \"ko_KR\",\n",
    "            \"mktId\"  : \"ALL\",\n",
    "            \"share\"  : \"1\",\n",
    "            \"csvxls_isNo\"  : \"false\",}\n",
    "r = requests.post(krx_url, data=payload)\n",
    "\n",
    "rt = r.json()\n",
    "\n",
    "sql = \"INSERT INTO KRX VALUES (%s, %s, %s, %s, %s, %s, %s, %s, %s, %s, %s, %s)\"\n",
    "\n",
    "for data in rt['OutBlock_1']:\n",
    "    try:\n",
    "        cur.execute(sql, list(data.values()))\n",
    "    except:\n",
    "        pass\n",
    "\n",
    "\n",
    "con.commit()\n"
   ]
  },
  {
   "cell_type": "code",
   "execution_count": 33,
   "metadata": {},
   "outputs": [
    {
     "data": {
      "text/plain": [
       "int"
      ]
     },
     "execution_count": 33,
     "metadata": {},
     "output_type": "execute_result"
    }
   ],
   "source": [
    "cur.execute(\"\"\"\n",
    "SELECT * \n",
    "FROM stock_day AS b\n",
    "JOIN KRX AS c \n",
    "ON c.ISU_SRT_CD = b.symbol;\n",
    "\"\"\")"
   ]
  },
  {
   "cell_type": "code",
   "execution_count": 32,
   "metadata": {},
   "outputs": [
    {
     "data": {
      "text/plain": [
       "10"
      ]
     },
     "execution_count": 32,
     "metadata": {},
     "output_type": "execute_result"
    }
   ],
   "source": [
    "cur.execute(\"\"\"\n",
    "select symbol\n",
    "from stock_day\n",
    "\"\"\")"
   ]
  },
  {
   "cell_type": "code",
   "execution_count": null,
   "metadata": {},
   "outputs": [],
   "source": []
  }
 ],
 "metadata": {
  "kernelspec": {
   "display_name": "Python 3",
   "language": "python",
   "name": "python3"
  },
  "language_info": {
   "codemirror_mode": {
    "name": "ipython",
    "version": 3
   },
   "file_extension": ".py",
   "mimetype": "text/x-python",
   "name": "python",
   "nbconvert_exporter": "python",
   "pygments_lexer": "ipython3",
   "version": "3.11.2"
  },
  "orig_nbformat": 4,
  "vscode": {
   "interpreter": {
    "hash": "b0fa6594d8f4cbf19f97940f81e996739fb7646882a419484c72d19e05852a7e"
   }
  }
 },
 "nbformat": 4,
 "nbformat_minor": 2
}
