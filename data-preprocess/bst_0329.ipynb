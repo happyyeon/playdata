{
 "cells": [
  {
   "cell_type": "code",
   "execution_count": 6,
   "metadata": {},
   "outputs": [],
   "source": [
    "class Node:\n",
    "    \n",
    "    def __init__(self, data):\n",
    "        self.left = None\n",
    "        self.right = None \n",
    "        self.data = data\n",
    "    \n",
    "    def __repr__(self):\n",
    "        return str(self.data)"
   ]
  },
  {
   "cell_type": "code",
   "execution_count": 7,
   "metadata": {},
   "outputs": [],
   "source": [
    "root = Node(11)"
   ]
  },
  {
   "cell_type": "code",
   "execution_count": 8,
   "metadata": {},
   "outputs": [
    {
     "name": "stdout",
     "output_type": "stream",
     "text": [
      "11\n"
     ]
    }
   ],
   "source": [
    "print(root)"
   ]
  },
  {
   "cell_type": "code",
   "execution_count": 9,
   "metadata": {},
   "outputs": [],
   "source": [
    "class BinarySearchTree:\n",
    "    \n",
    "    def __init__(self):\n",
    "        self.__root = None \n",
    "    \n",
    "    def insert(self, data, method='iterative'):\n",
    "        if method == 'recursion':\n",
    "            self.__root = self._insert_rec(self.__root, data)\n",
    "        else:\n",
    "            self._insert_iter(data)\n",
    "    \n",
    "            \n",
    "    def _insert_rec(self, node, data):\n",
    "        if not node:\n",
    "            node = Node(data)\n",
    "        else:\n",
    "            if node.data > data:\n",
    "                node.left = self._insert_rec(node.left, data)\n",
    "            else:\n",
    "                node.right = self._insert_rec(node.right, data)\n",
    "    \n",
    "    def _insert_iter(self,data):\n",
    "        if not self.__root:\n",
    "            self.__root = Node(data)\n",
    "            return \n",
    "        \n",
    "        new_node = Node(data)\n",
    "        \n",
    "        curr = self.__root\n",
    "        parent = None \n",
    "        \n",
    "        while(curr != None):\n",
    "            parent = curr\n",
    "            if curr.data > data:\n",
    "                curr = curr.left \n",
    "            else:\n",
    "                curr = curr.right \n",
    "        \n",
    "        if parent.data > data:\n",
    "            parent.left = new_node \n",
    "        else:\n",
    "            parent.right = new_node   \n",
    "            \n",
    "    def find(self, data, node=None):\n",
    "        if node is None:\n",
    "            node = self.__root\n",
    "            if node is None:\n",
    "                return False\n",
    "        \n",
    "        if node.data == data:\n",
    "            return True\n",
    "        elif node.data > data:\n",
    "            return self.find(node = node.left, data = data)\n",
    "        else:\n",
    "            return self.find(node = node.right,data = data)"
   ]
  },
  {
   "cell_type": "code",
   "execution_count": 10,
   "metadata": {},
   "outputs": [],
   "source": [
    "bst = BinarySearchTree()"
   ]
  },
  {
   "cell_type": "code",
   "execution_count": 11,
   "metadata": {},
   "outputs": [],
   "source": [
    "bst.insert(20)\n",
    "bst.insert(10)\n",
    "bst.insert(50)\n",
    "bst.insert(30)\n",
    "bst.insert(35)\n",
    "bst.insert(23)"
   ]
  },
  {
   "cell_type": "code",
   "execution_count": 12,
   "metadata": {},
   "outputs": [
    {
     "data": {
      "text/plain": [
       "True"
      ]
     },
     "execution_count": 12,
     "metadata": {},
     "output_type": "execute_result"
    }
   ],
   "source": [
    "bst.find(23)"
   ]
  },
  {
   "cell_type": "code",
   "execution_count": 13,
   "metadata": {},
   "outputs": [
    {
     "ename": "RecursionError",
     "evalue": "maximum recursion depth exceeded in comparison",
     "output_type": "error",
     "traceback": [
      "\u001b[0;31m---------------------------------------------------------------------------\u001b[0m",
      "\u001b[0;31mRecursionError\u001b[0m                            Traceback (most recent call last)",
      "\u001b[1;32m/Users/happyeon/Desktop/data_science/play_data/march/bst_0329.ipynb Cell 8\u001b[0m in \u001b[0;36m<cell line: 1>\u001b[0;34m()\u001b[0m\n\u001b[0;32m----> <a href='vscode-notebook-cell:/Users/happyeon/Desktop/data_science/play_data/march/bst_0329.ipynb#X10sZmlsZQ%3D%3D?line=0'>1</a>\u001b[0m bst\u001b[39m.\u001b[39;49mfind(\u001b[39m3\u001b[39;49m)\n",
      "\u001b[1;32m/Users/happyeon/Desktop/data_science/play_data/march/bst_0329.ipynb Cell 8\u001b[0m in \u001b[0;36mBinarySearchTree.find\u001b[0;34m(self, data, node)\u001b[0m\n\u001b[1;32m     <a href='vscode-notebook-cell:/Users/happyeon/Desktop/data_science/play_data/march/bst_0329.ipynb#X10sZmlsZQ%3D%3D?line=50'>51</a>\u001b[0m     \u001b[39mreturn\u001b[39;00m \u001b[39mTrue\u001b[39;00m\n\u001b[1;32m     <a href='vscode-notebook-cell:/Users/happyeon/Desktop/data_science/play_data/march/bst_0329.ipynb#X10sZmlsZQ%3D%3D?line=51'>52</a>\u001b[0m \u001b[39melif\u001b[39;00m node\u001b[39m.\u001b[39mdata \u001b[39m>\u001b[39m data:\n\u001b[0;32m---> <a href='vscode-notebook-cell:/Users/happyeon/Desktop/data_science/play_data/march/bst_0329.ipynb#X10sZmlsZQ%3D%3D?line=52'>53</a>\u001b[0m     \u001b[39mreturn\u001b[39;00m \u001b[39mself\u001b[39;49m\u001b[39m.\u001b[39;49mfind(node \u001b[39m=\u001b[39;49m node\u001b[39m.\u001b[39;49mleft, data \u001b[39m=\u001b[39;49m data)\n\u001b[1;32m     <a href='vscode-notebook-cell:/Users/happyeon/Desktop/data_science/play_data/march/bst_0329.ipynb#X10sZmlsZQ%3D%3D?line=53'>54</a>\u001b[0m \u001b[39melse\u001b[39;00m:\n\u001b[1;32m     <a href='vscode-notebook-cell:/Users/happyeon/Desktop/data_science/play_data/march/bst_0329.ipynb#X10sZmlsZQ%3D%3D?line=54'>55</a>\u001b[0m     \u001b[39mreturn\u001b[39;00m \u001b[39mself\u001b[39m\u001b[39m.\u001b[39mfind(node \u001b[39m=\u001b[39m node\u001b[39m.\u001b[39mright,data \u001b[39m=\u001b[39m data)\n",
      "\u001b[1;32m/Users/happyeon/Desktop/data_science/play_data/march/bst_0329.ipynb Cell 8\u001b[0m in \u001b[0;36mBinarySearchTree.find\u001b[0;34m(self, data, node)\u001b[0m\n\u001b[1;32m     <a href='vscode-notebook-cell:/Users/happyeon/Desktop/data_science/play_data/march/bst_0329.ipynb#X10sZmlsZQ%3D%3D?line=50'>51</a>\u001b[0m     \u001b[39mreturn\u001b[39;00m \u001b[39mTrue\u001b[39;00m\n\u001b[1;32m     <a href='vscode-notebook-cell:/Users/happyeon/Desktop/data_science/play_data/march/bst_0329.ipynb#X10sZmlsZQ%3D%3D?line=51'>52</a>\u001b[0m \u001b[39melif\u001b[39;00m node\u001b[39m.\u001b[39mdata \u001b[39m>\u001b[39m data:\n\u001b[0;32m---> <a href='vscode-notebook-cell:/Users/happyeon/Desktop/data_science/play_data/march/bst_0329.ipynb#X10sZmlsZQ%3D%3D?line=52'>53</a>\u001b[0m     \u001b[39mreturn\u001b[39;00m \u001b[39mself\u001b[39;49m\u001b[39m.\u001b[39;49mfind(node \u001b[39m=\u001b[39;49m node\u001b[39m.\u001b[39;49mleft, data \u001b[39m=\u001b[39;49m data)\n\u001b[1;32m     <a href='vscode-notebook-cell:/Users/happyeon/Desktop/data_science/play_data/march/bst_0329.ipynb#X10sZmlsZQ%3D%3D?line=53'>54</a>\u001b[0m \u001b[39melse\u001b[39;00m:\n\u001b[1;32m     <a href='vscode-notebook-cell:/Users/happyeon/Desktop/data_science/play_data/march/bst_0329.ipynb#X10sZmlsZQ%3D%3D?line=54'>55</a>\u001b[0m     \u001b[39mreturn\u001b[39;00m \u001b[39mself\u001b[39m\u001b[39m.\u001b[39mfind(node \u001b[39m=\u001b[39m node\u001b[39m.\u001b[39mright,data \u001b[39m=\u001b[39m data)\n",
      "    \u001b[0;31m[... skipping similar frames: BinarySearchTree.find at line 53 (2969 times)]\u001b[0m\n",
      "\u001b[1;32m/Users/happyeon/Desktop/data_science/play_data/march/bst_0329.ipynb Cell 8\u001b[0m in \u001b[0;36mBinarySearchTree.find\u001b[0;34m(self, data, node)\u001b[0m\n\u001b[1;32m     <a href='vscode-notebook-cell:/Users/happyeon/Desktop/data_science/play_data/march/bst_0329.ipynb#X10sZmlsZQ%3D%3D?line=50'>51</a>\u001b[0m     \u001b[39mreturn\u001b[39;00m \u001b[39mTrue\u001b[39;00m\n\u001b[1;32m     <a href='vscode-notebook-cell:/Users/happyeon/Desktop/data_science/play_data/march/bst_0329.ipynb#X10sZmlsZQ%3D%3D?line=51'>52</a>\u001b[0m \u001b[39melif\u001b[39;00m node\u001b[39m.\u001b[39mdata \u001b[39m>\u001b[39m data:\n\u001b[0;32m---> <a href='vscode-notebook-cell:/Users/happyeon/Desktop/data_science/play_data/march/bst_0329.ipynb#X10sZmlsZQ%3D%3D?line=52'>53</a>\u001b[0m     \u001b[39mreturn\u001b[39;00m \u001b[39mself\u001b[39;49m\u001b[39m.\u001b[39;49mfind(node \u001b[39m=\u001b[39;49m node\u001b[39m.\u001b[39;49mleft, data \u001b[39m=\u001b[39;49m data)\n\u001b[1;32m     <a href='vscode-notebook-cell:/Users/happyeon/Desktop/data_science/play_data/march/bst_0329.ipynb#X10sZmlsZQ%3D%3D?line=53'>54</a>\u001b[0m \u001b[39melse\u001b[39;00m:\n\u001b[1;32m     <a href='vscode-notebook-cell:/Users/happyeon/Desktop/data_science/play_data/march/bst_0329.ipynb#X10sZmlsZQ%3D%3D?line=54'>55</a>\u001b[0m     \u001b[39mreturn\u001b[39;00m \u001b[39mself\u001b[39m\u001b[39m.\u001b[39mfind(node \u001b[39m=\u001b[39m node\u001b[39m.\u001b[39mright,data \u001b[39m=\u001b[39m data)\n",
      "\u001b[1;32m/Users/happyeon/Desktop/data_science/play_data/march/bst_0329.ipynb Cell 8\u001b[0m in \u001b[0;36mBinarySearchTree.find\u001b[0;34m(self, data, node)\u001b[0m\n\u001b[1;32m     <a href='vscode-notebook-cell:/Users/happyeon/Desktop/data_science/play_data/march/bst_0329.ipynb#X10sZmlsZQ%3D%3D?line=46'>47</a>\u001b[0m     \u001b[39mif\u001b[39;00m node \u001b[39mis\u001b[39;00m \u001b[39mNone\u001b[39;00m:\n\u001b[1;32m     <a href='vscode-notebook-cell:/Users/happyeon/Desktop/data_science/play_data/march/bst_0329.ipynb#X10sZmlsZQ%3D%3D?line=47'>48</a>\u001b[0m         \u001b[39mreturn\u001b[39;00m \u001b[39mFalse\u001b[39;00m\n\u001b[0;32m---> <a href='vscode-notebook-cell:/Users/happyeon/Desktop/data_science/play_data/march/bst_0329.ipynb#X10sZmlsZQ%3D%3D?line=49'>50</a>\u001b[0m \u001b[39mif\u001b[39;00m node\u001b[39m.\u001b[39;49mdata \u001b[39m==\u001b[39;49m data:\n\u001b[1;32m     <a href='vscode-notebook-cell:/Users/happyeon/Desktop/data_science/play_data/march/bst_0329.ipynb#X10sZmlsZQ%3D%3D?line=50'>51</a>\u001b[0m     \u001b[39mreturn\u001b[39;00m \u001b[39mTrue\u001b[39;00m\n\u001b[1;32m     <a href='vscode-notebook-cell:/Users/happyeon/Desktop/data_science/play_data/march/bst_0329.ipynb#X10sZmlsZQ%3D%3D?line=51'>52</a>\u001b[0m \u001b[39melif\u001b[39;00m node\u001b[39m.\u001b[39mdata \u001b[39m>\u001b[39m data:\n",
      "\u001b[0;31mRecursionError\u001b[0m: maximum recursion depth exceeded in comparison"
     ]
    }
   ],
   "source": [
    "bst.find(3)"
   ]
  },
  {
   "cell_type": "code",
   "execution_count": null,
   "metadata": {},
   "outputs": [],
   "source": []
  }
 ],
 "metadata": {
  "kernelspec": {
   "display_name": "base",
   "language": "python",
   "name": "python3"
  },
  "language_info": {
   "codemirror_mode": {
    "name": "ipython",
    "version": 3
   },
   "file_extension": ".py",
   "mimetype": "text/x-python",
   "name": "python",
   "nbconvert_exporter": "python",
   "pygments_lexer": "ipython3",
   "version": "3.9.12"
  },
  "orig_nbformat": 4
 },
 "nbformat": 4,
 "nbformat_minor": 2
}
